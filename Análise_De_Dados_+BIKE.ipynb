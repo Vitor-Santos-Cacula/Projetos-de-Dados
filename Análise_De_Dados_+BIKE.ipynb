{
  "nbformat": 4,
  "nbformat_minor": 0,
  "metadata": {
    "colab": {
      "provenance": [],
      "include_colab_link": true
    },
    "kernelspec": {
      "name": "python3",
      "display_name": "Python 3"
    }
  },
  "cells": [
    {
      "cell_type": "markdown",
      "metadata": {
        "id": "view-in-github",
        "colab_type": "text"
      },
      "source": [
        "<a href=\"https://colab.research.google.com/github/Vitor-Santos-Cacula/Projetos-de-Dados/blob/main/An%C3%A1lise_De_Dados_%2BBIKE.ipynb\" target=\"_parent\"><img src=\"https://colab.research.google.com/assets/colab-badge.svg\" alt=\"Open In Colab\"/></a>"
      ]
    },
    {
      "cell_type": "markdown",
      "source": [
        "#### **Análise dos Dados Projeto +BIKE**\n",
        "\n",
        "A base de dados que iremos explorar se refere aos registros dos passeios realizados através do projeto +BIKE, um projeto que tem por objetivo distribuir bicicletas em pontos estratégicos de cidades, oferecendo uma solução de transporte de pequeno percurso que contribui com a mobilidade das pessoas em centros urbanos.\n",
        "É possível baixar uma grande quantidade de dados para desenvolver projetos e soluções de *Data Science*.\n",
        "\n",
        "![logo_bike.png](data:image/png;base64,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)"
      ],
      "metadata": {
        "id": "NuHJU_wFyeQW"
      }
    },
    {
      "cell_type": "markdown",
      "metadata": {
        "id": "0zxQHhIUDF_2"
      },
      "source": [
        "## Obtenção dos Dados\n"
      ]
    },
    {
      "cell_type": "code",
      "metadata": {
        "id": "pGmRLamzA6pv"
      },
      "source": [
        "import pandas as pd\n",
        "import numpy as np\n",
        "import plotly.express as px\n",
        "import matplotlib.pyplot as plt\n",
        "import seaborn as sns  \n",
        "import plotly.graph_objs as go"
      ],
      "execution_count": 2,
      "outputs": []
    },
    {
      "cell_type": "code",
      "source": [
        "df = pd.read_csv(\"http://dl.dropboxusercontent.com/s/yyfeoxqw61o3iel/df_rides.csv\")\n",
        "df.head()"
      ],
      "metadata": {
        "colab": {
          "base_uri": "https://localhost:8080/",
          "height": 206
        },
        "id": "h2kXjEtD6Xma",
        "outputId": "3370be7c-b2bf-4c99-a8a1-158d8a4e5d34"
      },
      "execution_count": 3,
      "outputs": [
        {
          "output_type": "execute_result",
          "data": {
            "text/plain": [
              "  user_gender user_birthdate user_residence   ride_date time_start  time_end  \\\n",
              "0           M     1971-06-08            NaN  2018-01-01   06:05:18  06:21:33   \n",
              "1           M     1989-02-11             DF  2018-01-01   06:27:01  06:32:17   \n",
              "2           M     1968-07-19            NaN  2018-01-01   06:29:33  06:44:57   \n",
              "3           M     1991-12-19            NaN  2018-01-01   06:53:53  06:59:45   \n",
              "4           M     1969-03-03             DF  2018-01-01   06:58:56  17:40:04   \n",
              "\n",
              "                     station_start  \\\n",
              "0                11 - Rodoviária 2   \n",
              "1         26 - Ministério da Saude   \n",
              "2                11 - Rodoviária 2   \n",
              "3  10 - Ministério dos Transportes   \n",
              "4                   15 - Brasil 21   \n",
              "\n",
              "                                         station_end  ride_duration  ride_late  \n",
              "0                            41 - Instituto de Artes      16.250000        0.0  \n",
              "1  28 - CNMP - Conselho Nacional do Ministério Pú...       5.266667        0.0  \n",
              "2                            43 - Biblioteca Central      15.400000        0.0  \n",
              "3                                     6 - Rodoviária       5.866667        0.0  \n",
              "4                                  11 - Rodoviária 2     641.133333        1.0  "
            ],
            "text/html": [
              "\n",
              "  <div id=\"df-4829c462-965e-4da7-8e15-1fbe2249eaea\">\n",
              "    <div class=\"colab-df-container\">\n",
              "      <div>\n",
              "<style scoped>\n",
              "    .dataframe tbody tr th:only-of-type {\n",
              "        vertical-align: middle;\n",
              "    }\n",
              "\n",
              "    .dataframe tbody tr th {\n",
              "        vertical-align: top;\n",
              "    }\n",
              "\n",
              "    .dataframe thead th {\n",
              "        text-align: right;\n",
              "    }\n",
              "</style>\n",
              "<table border=\"1\" class=\"dataframe\">\n",
              "  <thead>\n",
              "    <tr style=\"text-align: right;\">\n",
              "      <th></th>\n",
              "      <th>user_gender</th>\n",
              "      <th>user_birthdate</th>\n",
              "      <th>user_residence</th>\n",
              "      <th>ride_date</th>\n",
              "      <th>time_start</th>\n",
              "      <th>time_end</th>\n",
              "      <th>station_start</th>\n",
              "      <th>station_end</th>\n",
              "      <th>ride_duration</th>\n",
              "      <th>ride_late</th>\n",
              "    </tr>\n",
              "  </thead>\n",
              "  <tbody>\n",
              "    <tr>\n",
              "      <th>0</th>\n",
              "      <td>M</td>\n",
              "      <td>1971-06-08</td>\n",
              "      <td>NaN</td>\n",
              "      <td>2018-01-01</td>\n",
              "      <td>06:05:18</td>\n",
              "      <td>06:21:33</td>\n",
              "      <td>11 - Rodoviária 2</td>\n",
              "      <td>41 - Instituto de Artes</td>\n",
              "      <td>16.250000</td>\n",
              "      <td>0.0</td>\n",
              "    </tr>\n",
              "    <tr>\n",
              "      <th>1</th>\n",
              "      <td>M</td>\n",
              "      <td>1989-02-11</td>\n",
              "      <td>DF</td>\n",
              "      <td>2018-01-01</td>\n",
              "      <td>06:27:01</td>\n",
              "      <td>06:32:17</td>\n",
              "      <td>26 - Ministério da Saude</td>\n",
              "      <td>28 - CNMP - Conselho Nacional do Ministério Pú...</td>\n",
              "      <td>5.266667</td>\n",
              "      <td>0.0</td>\n",
              "    </tr>\n",
              "    <tr>\n",
              "      <th>2</th>\n",
              "      <td>M</td>\n",
              "      <td>1968-07-19</td>\n",
              "      <td>NaN</td>\n",
              "      <td>2018-01-01</td>\n",
              "      <td>06:29:33</td>\n",
              "      <td>06:44:57</td>\n",
              "      <td>11 - Rodoviária 2</td>\n",
              "      <td>43 - Biblioteca Central</td>\n",
              "      <td>15.400000</td>\n",
              "      <td>0.0</td>\n",
              "    </tr>\n",
              "    <tr>\n",
              "      <th>3</th>\n",
              "      <td>M</td>\n",
              "      <td>1991-12-19</td>\n",
              "      <td>NaN</td>\n",
              "      <td>2018-01-01</td>\n",
              "      <td>06:53:53</td>\n",
              "      <td>06:59:45</td>\n",
              "      <td>10 - Ministério dos Transportes</td>\n",
              "      <td>6 - Rodoviária</td>\n",
              "      <td>5.866667</td>\n",
              "      <td>0.0</td>\n",
              "    </tr>\n",
              "    <tr>\n",
              "      <th>4</th>\n",
              "      <td>M</td>\n",
              "      <td>1969-03-03</td>\n",
              "      <td>DF</td>\n",
              "      <td>2018-01-01</td>\n",
              "      <td>06:58:56</td>\n",
              "      <td>17:40:04</td>\n",
              "      <td>15 - Brasil 21</td>\n",
              "      <td>11 - Rodoviária 2</td>\n",
              "      <td>641.133333</td>\n",
              "      <td>1.0</td>\n",
              "    </tr>\n",
              "  </tbody>\n",
              "</table>\n",
              "</div>\n",
              "      <button class=\"colab-df-convert\" onclick=\"convertToInteractive('df-4829c462-965e-4da7-8e15-1fbe2249eaea')\"\n",
              "              title=\"Convert this dataframe to an interactive table.\"\n",
              "              style=\"display:none;\">\n",
              "        \n",
              "  <svg xmlns=\"http://www.w3.org/2000/svg\" height=\"24px\"viewBox=\"0 0 24 24\"\n",
              "       width=\"24px\">\n",
              "    <path d=\"M0 0h24v24H0V0z\" fill=\"none\"/>\n",
              "    <path d=\"M18.56 5.44l.94 2.06.94-2.06 2.06-.94-2.06-.94-.94-2.06-.94 2.06-2.06.94zm-11 1L8.5 8.5l.94-2.06 2.06-.94-2.06-.94L8.5 2.5l-.94 2.06-2.06.94zm10 10l.94 2.06.94-2.06 2.06-.94-2.06-.94-.94-2.06-.94 2.06-2.06.94z\"/><path d=\"M17.41 7.96l-1.37-1.37c-.4-.4-.92-.59-1.43-.59-.52 0-1.04.2-1.43.59L10.3 9.45l-7.72 7.72c-.78.78-.78 2.05 0 2.83L4 21.41c.39.39.9.59 1.41.59.51 0 1.02-.2 1.41-.59l7.78-7.78 2.81-2.81c.8-.78.8-2.07 0-2.86zM5.41 20L4 18.59l7.72-7.72 1.47 1.35L5.41 20z\"/>\n",
              "  </svg>\n",
              "      </button>\n",
              "      \n",
              "  <style>\n",
              "    .colab-df-container {\n",
              "      display:flex;\n",
              "      flex-wrap:wrap;\n",
              "      gap: 12px;\n",
              "    }\n",
              "\n",
              "    .colab-df-convert {\n",
              "      background-color: #E8F0FE;\n",
              "      border: none;\n",
              "      border-radius: 50%;\n",
              "      cursor: pointer;\n",
              "      display: none;\n",
              "      fill: #1967D2;\n",
              "      height: 32px;\n",
              "      padding: 0 0 0 0;\n",
              "      width: 32px;\n",
              "    }\n",
              "\n",
              "    .colab-df-convert:hover {\n",
              "      background-color: #E2EBFA;\n",
              "      box-shadow: 0px 1px 2px rgba(60, 64, 67, 0.3), 0px 1px 3px 1px rgba(60, 64, 67, 0.15);\n",
              "      fill: #174EA6;\n",
              "    }\n",
              "\n",
              "    [theme=dark] .colab-df-convert {\n",
              "      background-color: #3B4455;\n",
              "      fill: #D2E3FC;\n",
              "    }\n",
              "\n",
              "    [theme=dark] .colab-df-convert:hover {\n",
              "      background-color: #434B5C;\n",
              "      box-shadow: 0px 1px 3px 1px rgba(0, 0, 0, 0.15);\n",
              "      filter: drop-shadow(0px 1px 2px rgba(0, 0, 0, 0.3));\n",
              "      fill: #FFFFFF;\n",
              "    }\n",
              "  </style>\n",
              "\n",
              "      <script>\n",
              "        const buttonEl =\n",
              "          document.querySelector('#df-4829c462-965e-4da7-8e15-1fbe2249eaea button.colab-df-convert');\n",
              "        buttonEl.style.display =\n",
              "          google.colab.kernel.accessAllowed ? 'block' : 'none';\n",
              "\n",
              "        async function convertToInteractive(key) {\n",
              "          const element = document.querySelector('#df-4829c462-965e-4da7-8e15-1fbe2249eaea');\n",
              "          const dataTable =\n",
              "            await google.colab.kernel.invokeFunction('convertToInteractive',\n",
              "                                                     [key], {});\n",
              "          if (!dataTable) return;\n",
              "\n",
              "          const docLinkHtml = 'Like what you see? Visit the ' +\n",
              "            '<a target=\"_blank\" href=https://colab.research.google.com/notebooks/data_table.ipynb>data table notebook</a>'\n",
              "            + ' to learn more about interactive tables.';\n",
              "          element.innerHTML = '';\n",
              "          dataTable['output_type'] = 'display_data';\n",
              "          await google.colab.output.renderOutput(dataTable, element);\n",
              "          const docLink = document.createElement('div');\n",
              "          docLink.innerHTML = docLinkHtml;\n",
              "          element.appendChild(docLink);\n",
              "        }\n",
              "      </script>\n",
              "    </div>\n",
              "  </div>\n",
              "  "
            ]
          },
          "metadata": {},
          "execution_count": 3
        }
      ]
    },
    {
      "cell_type": "markdown",
      "source": [
        "###**Dicionário das variáveis**\n",
        "\n",
        "* ... **Genero** - Genero informado pelo usuário \n",
        "* ... **Data_de_nascimento** - Data de nascimento do usuário\n",
        "* ... **Estado** - Estado onde ocorreu o passeio\n",
        "* ... **Data_Passeio** - Data do passeio\n",
        "* ... **Hora_inicio** - Hora de inicio do passeio\n",
        "* ... **Hora_Fim** - Hora de finalização do passeio\n",
        "* ... **Estacao_inicio** - Local de inicio\n",
        "* ... **Estacao_fim** - Local final\n",
        "* ... **Duracao_Passeio** - Tempo total do passeio\n",
        "* ... **Passeio_atrasado** - Define os passeios mais demorados\n"
      ],
      "metadata": {
        "id": "qUfCnCug8deW"
      }
    },
    {
      "cell_type": "markdown",
      "source": [
        "###Renomeando Colunas do dataset"
      ],
      "metadata": {
        "id": "--9WpdyJ9nNW"
      }
    },
    {
      "cell_type": "code",
      "source": [
        "df.columns = ['Genero','Data_de_nascimento','Cidade_Estado','Data_Passeio','Hora_Inicio', 'Hora_Fim','Estacao_Inicio','Estacao_Fim','Duracao_Passeio','Passeio_atrasado']\n",
        "df.head(1)"
      ],
      "metadata": {
        "id": "Y80g66p0lkVZ",
        "colab": {
          "base_uri": "https://localhost:8080/",
          "height": 81
        },
        "outputId": "dc44f8b9-2065-4f84-bcb4-0ad9f6771985"
      },
      "execution_count": 4,
      "outputs": [
        {
          "output_type": "execute_result",
          "data": {
            "text/plain": [
              "  Genero Data_de_nascimento Cidade_Estado Data_Passeio Hora_Inicio  Hora_Fim  \\\n",
              "0      M         1971-06-08           NaN   2018-01-01    06:05:18  06:21:33   \n",
              "\n",
              "      Estacao_Inicio              Estacao_Fim  Duracao_Passeio  \\\n",
              "0  11 - Rodoviária 2  41 - Instituto de Artes            16.25   \n",
              "\n",
              "   Passeio_atrasado  \n",
              "0               0.0  "
            ],
            "text/html": [
              "\n",
              "  <div id=\"df-1561d74c-f1d7-4f95-a37e-d000de5efed0\">\n",
              "    <div class=\"colab-df-container\">\n",
              "      <div>\n",
              "<style scoped>\n",
              "    .dataframe tbody tr th:only-of-type {\n",
              "        vertical-align: middle;\n",
              "    }\n",
              "\n",
              "    .dataframe tbody tr th {\n",
              "        vertical-align: top;\n",
              "    }\n",
              "\n",
              "    .dataframe thead th {\n",
              "        text-align: right;\n",
              "    }\n",
              "</style>\n",
              "<table border=\"1\" class=\"dataframe\">\n",
              "  <thead>\n",
              "    <tr style=\"text-align: right;\">\n",
              "      <th></th>\n",
              "      <th>Genero</th>\n",
              "      <th>Data_de_nascimento</th>\n",
              "      <th>Cidade_Estado</th>\n",
              "      <th>Data_Passeio</th>\n",
              "      <th>Hora_Inicio</th>\n",
              "      <th>Hora_Fim</th>\n",
              "      <th>Estacao_Inicio</th>\n",
              "      <th>Estacao_Fim</th>\n",
              "      <th>Duracao_Passeio</th>\n",
              "      <th>Passeio_atrasado</th>\n",
              "    </tr>\n",
              "  </thead>\n",
              "  <tbody>\n",
              "    <tr>\n",
              "      <th>0</th>\n",
              "      <td>M</td>\n",
              "      <td>1971-06-08</td>\n",
              "      <td>NaN</td>\n",
              "      <td>2018-01-01</td>\n",
              "      <td>06:05:18</td>\n",
              "      <td>06:21:33</td>\n",
              "      <td>11 - Rodoviária 2</td>\n",
              "      <td>41 - Instituto de Artes</td>\n",
              "      <td>16.25</td>\n",
              "      <td>0.0</td>\n",
              "    </tr>\n",
              "  </tbody>\n",
              "</table>\n",
              "</div>\n",
              "      <button class=\"colab-df-convert\" onclick=\"convertToInteractive('df-1561d74c-f1d7-4f95-a37e-d000de5efed0')\"\n",
              "              title=\"Convert this dataframe to an interactive table.\"\n",
              "              style=\"display:none;\">\n",
              "        \n",
              "  <svg xmlns=\"http://www.w3.org/2000/svg\" height=\"24px\"viewBox=\"0 0 24 24\"\n",
              "       width=\"24px\">\n",
              "    <path d=\"M0 0h24v24H0V0z\" fill=\"none\"/>\n",
              "    <path d=\"M18.56 5.44l.94 2.06.94-2.06 2.06-.94-2.06-.94-.94-2.06-.94 2.06-2.06.94zm-11 1L8.5 8.5l.94-2.06 2.06-.94-2.06-.94L8.5 2.5l-.94 2.06-2.06.94zm10 10l.94 2.06.94-2.06 2.06-.94-2.06-.94-.94-2.06-.94 2.06-2.06.94z\"/><path d=\"M17.41 7.96l-1.37-1.37c-.4-.4-.92-.59-1.43-.59-.52 0-1.04.2-1.43.59L10.3 9.45l-7.72 7.72c-.78.78-.78 2.05 0 2.83L4 21.41c.39.39.9.59 1.41.59.51 0 1.02-.2 1.41-.59l7.78-7.78 2.81-2.81c.8-.78.8-2.07 0-2.86zM5.41 20L4 18.59l7.72-7.72 1.47 1.35L5.41 20z\"/>\n",
              "  </svg>\n",
              "      </button>\n",
              "      \n",
              "  <style>\n",
              "    .colab-df-container {\n",
              "      display:flex;\n",
              "      flex-wrap:wrap;\n",
              "      gap: 12px;\n",
              "    }\n",
              "\n",
              "    .colab-df-convert {\n",
              "      background-color: #E8F0FE;\n",
              "      border: none;\n",
              "      border-radius: 50%;\n",
              "      cursor: pointer;\n",
              "      display: none;\n",
              "      fill: #1967D2;\n",
              "      height: 32px;\n",
              "      padding: 0 0 0 0;\n",
              "      width: 32px;\n",
              "    }\n",
              "\n",
              "    .colab-df-convert:hover {\n",
              "      background-color: #E2EBFA;\n",
              "      box-shadow: 0px 1px 2px rgba(60, 64, 67, 0.3), 0px 1px 3px 1px rgba(60, 64, 67, 0.15);\n",
              "      fill: #174EA6;\n",
              "    }\n",
              "\n",
              "    [theme=dark] .colab-df-convert {\n",
              "      background-color: #3B4455;\n",
              "      fill: #D2E3FC;\n",
              "    }\n",
              "\n",
              "    [theme=dark] .colab-df-convert:hover {\n",
              "      background-color: #434B5C;\n",
              "      box-shadow: 0px 1px 3px 1px rgba(0, 0, 0, 0.15);\n",
              "      filter: drop-shadow(0px 1px 2px rgba(0, 0, 0, 0.3));\n",
              "      fill: #FFFFFF;\n",
              "    }\n",
              "  </style>\n",
              "\n",
              "      <script>\n",
              "        const buttonEl =\n",
              "          document.querySelector('#df-1561d74c-f1d7-4f95-a37e-d000de5efed0 button.colab-df-convert');\n",
              "        buttonEl.style.display =\n",
              "          google.colab.kernel.accessAllowed ? 'block' : 'none';\n",
              "\n",
              "        async function convertToInteractive(key) {\n",
              "          const element = document.querySelector('#df-1561d74c-f1d7-4f95-a37e-d000de5efed0');\n",
              "          const dataTable =\n",
              "            await google.colab.kernel.invokeFunction('convertToInteractive',\n",
              "                                                     [key], {});\n",
              "          if (!dataTable) return;\n",
              "\n",
              "          const docLinkHtml = 'Like what you see? Visit the ' +\n",
              "            '<a target=\"_blank\" href=https://colab.research.google.com/notebooks/data_table.ipynb>data table notebook</a>'\n",
              "            + ' to learn more about interactive tables.';\n",
              "          element.innerHTML = '';\n",
              "          dataTable['output_type'] = 'display_data';\n",
              "          await google.colab.output.renderOutput(dataTable, element);\n",
              "          const docLink = document.createElement('div');\n",
              "          docLink.innerHTML = docLinkHtml;\n",
              "          element.appendChild(docLink);\n",
              "        }\n",
              "      </script>\n",
              "    </div>\n",
              "  </div>\n",
              "  "
            ]
          },
          "metadata": {},
          "execution_count": 4
        }
      ]
    },
    {
      "cell_type": "markdown",
      "source": [
        "###**Tamanho do Dataset**\n",
        "\n",
        "\n",
        "Vamos prosseguir e identificar a quantidade de entradas que nosso conjunto de dados possui e ver os tipos de cada coluna."
      ],
      "metadata": {
        "id": "rs-g1NW3-DW3"
      }
    },
    {
      "cell_type": "code",
      "source": [
        "print(\"Quantidade de registros: {}\".format(df.shape[0]))\n",
        "print(\"Quantidade de colunas: {}\\n\".format(df.shape[1]))\n",
        "\n",
        "display(df.dtypes)"
      ],
      "metadata": {
        "colab": {
          "base_uri": "https://localhost:8080/",
          "height": 275
        },
        "id": "M75L-hFh9xcp",
        "outputId": "7f026e3b-679d-41d9-be40-19e1f0991215"
      },
      "execution_count": 5,
      "outputs": [
        {
          "output_type": "stream",
          "name": "stdout",
          "text": [
            "Quantidade de registros: 287322\n",
            "Quantidade de colunas: 10\n",
            "\n"
          ]
        },
        {
          "output_type": "display_data",
          "data": {
            "text/plain": [
              "Genero                 object\n",
              "Data_de_nascimento     object\n",
              "Cidade_Estado          object\n",
              "Data_Passeio           object\n",
              "Hora_Inicio            object\n",
              "Hora_Fim               object\n",
              "Estacao_Inicio         object\n",
              "Estacao_Fim            object\n",
              "Duracao_Passeio       float64\n",
              "Passeio_atrasado      float64\n",
              "dtype: object"
            ]
          },
          "metadata": {}
        }
      ]
    },
    {
      "cell_type": "markdown",
      "source": [
        "#**Tratamento De Dados**\n",
        "\n",
        "Como o Dataset é muito extenso, teríamos que realizar uma série de tratamentos, que demandaria muito tempo de processamento. Então iremos resumir o nosso Dataset para pelo menos **10.000** linhas, utilizando o método `Sample()`."
      ],
      "metadata": {
        "id": "WJ8HFm8N-5sX"
      }
    },
    {
      "cell_type": "code",
      "source": [
        "df1 = df.sample(10000,random_state=20000)\n",
        "df1"
      ],
      "metadata": {
        "id": "2dhbvRpc9umm",
        "colab": {
          "base_uri": "https://localhost:8080/",
          "height": 423
        },
        "outputId": "32f1a75c-69b0-4e12-a451-d4978207270f"
      },
      "execution_count": 6,
      "outputs": [
        {
          "output_type": "execute_result",
          "data": {
            "text/plain": [
              "       Genero Data_de_nascimento Cidade_Estado Data_Passeio Hora_Inicio  \\\n",
              "58387       F         1966-04-22           NaN   2018-03-17    16:18:23   \n",
              "265289      F         1985-12-02            DF   2018-08-17    18:40:37   \n",
              "207397      M         2016-02-18            DF   2018-07-09    11:16:17   \n",
              "135948      M         1991-06-21           NaN   2018-05-21    18:49:00   \n",
              "225833      F         1991-05-04           NaN   2018-07-22    11:32:06   \n",
              "...       ...                ...           ...          ...         ...   \n",
              "195119      M         1996-02-07           NaN   2018-06-29    16:40:26   \n",
              "219872      M         1987-06-11           NaN   2018-07-18    08:08:37   \n",
              "55638       M         1974-09-09           NaN   2018-03-14    17:02:35   \n",
              "180940      M         1991-07-10            DF   2018-06-19    13:02:54   \n",
              "3056        M         1992-11-15           NaN   2018-01-05    19:35:25   \n",
              "\n",
              "        Hora_Fim            Estacao_Inicio              Estacao_Fim  \\\n",
              "58387   15:46:48                  42 - PAT                 42 - PAT   \n",
              "265289  19:03:19            6 - Rodoviária             22 - 102 Sul   \n",
              "207397  11:24:59   41 - Instituto de Artes         46 - EQN 408/409   \n",
              "135948  18:55:01                16 - SRTVS             24 - Galeria   \n",
              "225833  13:22:36              32 - SQS 305             32 - SQS 305   \n",
              "...          ...                       ...                      ...   \n",
              "195119       NaN  3 - Centro de Convenções           15 - Brasil 21   \n",
              "219872  08:14:16              39 - CLN 406  43 - Biblioteca Central   \n",
              "55638   16:48:48                  30 - TSE           6 - Rodoviária   \n",
              "180940       NaN        40 - W2/EQN305/306  41 - Instituto de Artes   \n",
              "3056    19:42:08   41 - Instituto de Artes             39 - CLN 406   \n",
              "\n",
              "        Duracao_Passeio  Passeio_atrasado  \n",
              "58387               NaN               NaN  \n",
              "265289        22.700000               0.0  \n",
              "207397         8.700000               0.0  \n",
              "135948         6.016667               0.0  \n",
              "225833       110.500000               1.0  \n",
              "...                 ...               ...  \n",
              "195119              NaN               NaN  \n",
              "219872         5.650000               0.0  \n",
              "55638               NaN               NaN  \n",
              "180940              NaN               NaN  \n",
              "3056           6.716667               0.0  \n",
              "\n",
              "[10000 rows x 10 columns]"
            ],
            "text/html": [
              "\n",
              "  <div id=\"df-50eebb06-52eb-4362-bcb9-1dc28da93971\">\n",
              "    <div class=\"colab-df-container\">\n",
              "      <div>\n",
              "<style scoped>\n",
              "    .dataframe tbody tr th:only-of-type {\n",
              "        vertical-align: middle;\n",
              "    }\n",
              "\n",
              "    .dataframe tbody tr th {\n",
              "        vertical-align: top;\n",
              "    }\n",
              "\n",
              "    .dataframe thead th {\n",
              "        text-align: right;\n",
              "    }\n",
              "</style>\n",
              "<table border=\"1\" class=\"dataframe\">\n",
              "  <thead>\n",
              "    <tr style=\"text-align: right;\">\n",
              "      <th></th>\n",
              "      <th>Genero</th>\n",
              "      <th>Data_de_nascimento</th>\n",
              "      <th>Cidade_Estado</th>\n",
              "      <th>Data_Passeio</th>\n",
              "      <th>Hora_Inicio</th>\n",
              "      <th>Hora_Fim</th>\n",
              "      <th>Estacao_Inicio</th>\n",
              "      <th>Estacao_Fim</th>\n",
              "      <th>Duracao_Passeio</th>\n",
              "      <th>Passeio_atrasado</th>\n",
              "    </tr>\n",
              "  </thead>\n",
              "  <tbody>\n",
              "    <tr>\n",
              "      <th>58387</th>\n",
              "      <td>F</td>\n",
              "      <td>1966-04-22</td>\n",
              "      <td>NaN</td>\n",
              "      <td>2018-03-17</td>\n",
              "      <td>16:18:23</td>\n",
              "      <td>15:46:48</td>\n",
              "      <td>42 - PAT</td>\n",
              "      <td>42 - PAT</td>\n",
              "      <td>NaN</td>\n",
              "      <td>NaN</td>\n",
              "    </tr>\n",
              "    <tr>\n",
              "      <th>265289</th>\n",
              "      <td>F</td>\n",
              "      <td>1985-12-02</td>\n",
              "      <td>DF</td>\n",
              "      <td>2018-08-17</td>\n",
              "      <td>18:40:37</td>\n",
              "      <td>19:03:19</td>\n",
              "      <td>6 - Rodoviária</td>\n",
              "      <td>22 - 102 Sul</td>\n",
              "      <td>22.700000</td>\n",
              "      <td>0.0</td>\n",
              "    </tr>\n",
              "    <tr>\n",
              "      <th>207397</th>\n",
              "      <td>M</td>\n",
              "      <td>2016-02-18</td>\n",
              "      <td>DF</td>\n",
              "      <td>2018-07-09</td>\n",
              "      <td>11:16:17</td>\n",
              "      <td>11:24:59</td>\n",
              "      <td>41 - Instituto de Artes</td>\n",
              "      <td>46 - EQN 408/409</td>\n",
              "      <td>8.700000</td>\n",
              "      <td>0.0</td>\n",
              "    </tr>\n",
              "    <tr>\n",
              "      <th>135948</th>\n",
              "      <td>M</td>\n",
              "      <td>1991-06-21</td>\n",
              "      <td>NaN</td>\n",
              "      <td>2018-05-21</td>\n",
              "      <td>18:49:00</td>\n",
              "      <td>18:55:01</td>\n",
              "      <td>16 - SRTVS</td>\n",
              "      <td>24 - Galeria</td>\n",
              "      <td>6.016667</td>\n",
              "      <td>0.0</td>\n",
              "    </tr>\n",
              "    <tr>\n",
              "      <th>225833</th>\n",
              "      <td>F</td>\n",
              "      <td>1991-05-04</td>\n",
              "      <td>NaN</td>\n",
              "      <td>2018-07-22</td>\n",
              "      <td>11:32:06</td>\n",
              "      <td>13:22:36</td>\n",
              "      <td>32 - SQS 305</td>\n",
              "      <td>32 - SQS 305</td>\n",
              "      <td>110.500000</td>\n",
              "      <td>1.0</td>\n",
              "    </tr>\n",
              "    <tr>\n",
              "      <th>...</th>\n",
              "      <td>...</td>\n",
              "      <td>...</td>\n",
              "      <td>...</td>\n",
              "      <td>...</td>\n",
              "      <td>...</td>\n",
              "      <td>...</td>\n",
              "      <td>...</td>\n",
              "      <td>...</td>\n",
              "      <td>...</td>\n",
              "      <td>...</td>\n",
              "    </tr>\n",
              "    <tr>\n",
              "      <th>195119</th>\n",
              "      <td>M</td>\n",
              "      <td>1996-02-07</td>\n",
              "      <td>NaN</td>\n",
              "      <td>2018-06-29</td>\n",
              "      <td>16:40:26</td>\n",
              "      <td>NaN</td>\n",
              "      <td>3 - Centro de Convenções</td>\n",
              "      <td>15 - Brasil 21</td>\n",
              "      <td>NaN</td>\n",
              "      <td>NaN</td>\n",
              "    </tr>\n",
              "    <tr>\n",
              "      <th>219872</th>\n",
              "      <td>M</td>\n",
              "      <td>1987-06-11</td>\n",
              "      <td>NaN</td>\n",
              "      <td>2018-07-18</td>\n",
              "      <td>08:08:37</td>\n",
              "      <td>08:14:16</td>\n",
              "      <td>39 - CLN 406</td>\n",
              "      <td>43 - Biblioteca Central</td>\n",
              "      <td>5.650000</td>\n",
              "      <td>0.0</td>\n",
              "    </tr>\n",
              "    <tr>\n",
              "      <th>55638</th>\n",
              "      <td>M</td>\n",
              "      <td>1974-09-09</td>\n",
              "      <td>NaN</td>\n",
              "      <td>2018-03-14</td>\n",
              "      <td>17:02:35</td>\n",
              "      <td>16:48:48</td>\n",
              "      <td>30 - TSE</td>\n",
              "      <td>6 - Rodoviária</td>\n",
              "      <td>NaN</td>\n",
              "      <td>NaN</td>\n",
              "    </tr>\n",
              "    <tr>\n",
              "      <th>180940</th>\n",
              "      <td>M</td>\n",
              "      <td>1991-07-10</td>\n",
              "      <td>DF</td>\n",
              "      <td>2018-06-19</td>\n",
              "      <td>13:02:54</td>\n",
              "      <td>NaN</td>\n",
              "      <td>40 - W2/EQN305/306</td>\n",
              "      <td>41 - Instituto de Artes</td>\n",
              "      <td>NaN</td>\n",
              "      <td>NaN</td>\n",
              "    </tr>\n",
              "    <tr>\n",
              "      <th>3056</th>\n",
              "      <td>M</td>\n",
              "      <td>1992-11-15</td>\n",
              "      <td>NaN</td>\n",
              "      <td>2018-01-05</td>\n",
              "      <td>19:35:25</td>\n",
              "      <td>19:42:08</td>\n",
              "      <td>41 - Instituto de Artes</td>\n",
              "      <td>39 - CLN 406</td>\n",
              "      <td>6.716667</td>\n",
              "      <td>0.0</td>\n",
              "    </tr>\n",
              "  </tbody>\n",
              "</table>\n",
              "<p>10000 rows × 10 columns</p>\n",
              "</div>\n",
              "      <button class=\"colab-df-convert\" onclick=\"convertToInteractive('df-50eebb06-52eb-4362-bcb9-1dc28da93971')\"\n",
              "              title=\"Convert this dataframe to an interactive table.\"\n",
              "              style=\"display:none;\">\n",
              "        \n",
              "  <svg xmlns=\"http://www.w3.org/2000/svg\" height=\"24px\"viewBox=\"0 0 24 24\"\n",
              "       width=\"24px\">\n",
              "    <path d=\"M0 0h24v24H0V0z\" fill=\"none\"/>\n",
              "    <path d=\"M18.56 5.44l.94 2.06.94-2.06 2.06-.94-2.06-.94-.94-2.06-.94 2.06-2.06.94zm-11 1L8.5 8.5l.94-2.06 2.06-.94-2.06-.94L8.5 2.5l-.94 2.06-2.06.94zm10 10l.94 2.06.94-2.06 2.06-.94-2.06-.94-.94-2.06-.94 2.06-2.06.94z\"/><path d=\"M17.41 7.96l-1.37-1.37c-.4-.4-.92-.59-1.43-.59-.52 0-1.04.2-1.43.59L10.3 9.45l-7.72 7.72c-.78.78-.78 2.05 0 2.83L4 21.41c.39.39.9.59 1.41.59.51 0 1.02-.2 1.41-.59l7.78-7.78 2.81-2.81c.8-.78.8-2.07 0-2.86zM5.41 20L4 18.59l7.72-7.72 1.47 1.35L5.41 20z\"/>\n",
              "  </svg>\n",
              "      </button>\n",
              "      \n",
              "  <style>\n",
              "    .colab-df-container {\n",
              "      display:flex;\n",
              "      flex-wrap:wrap;\n",
              "      gap: 12px;\n",
              "    }\n",
              "\n",
              "    .colab-df-convert {\n",
              "      background-color: #E8F0FE;\n",
              "      border: none;\n",
              "      border-radius: 50%;\n",
              "      cursor: pointer;\n",
              "      display: none;\n",
              "      fill: #1967D2;\n",
              "      height: 32px;\n",
              "      padding: 0 0 0 0;\n",
              "      width: 32px;\n",
              "    }\n",
              "\n",
              "    .colab-df-convert:hover {\n",
              "      background-color: #E2EBFA;\n",
              "      box-shadow: 0px 1px 2px rgba(60, 64, 67, 0.3), 0px 1px 3px 1px rgba(60, 64, 67, 0.15);\n",
              "      fill: #174EA6;\n",
              "    }\n",
              "\n",
              "    [theme=dark] .colab-df-convert {\n",
              "      background-color: #3B4455;\n",
              "      fill: #D2E3FC;\n",
              "    }\n",
              "\n",
              "    [theme=dark] .colab-df-convert:hover {\n",
              "      background-color: #434B5C;\n",
              "      box-shadow: 0px 1px 3px 1px rgba(0, 0, 0, 0.15);\n",
              "      filter: drop-shadow(0px 1px 2px rgba(0, 0, 0, 0.3));\n",
              "      fill: #FFFFFF;\n",
              "    }\n",
              "  </style>\n",
              "\n",
              "      <script>\n",
              "        const buttonEl =\n",
              "          document.querySelector('#df-50eebb06-52eb-4362-bcb9-1dc28da93971 button.colab-df-convert');\n",
              "        buttonEl.style.display =\n",
              "          google.colab.kernel.accessAllowed ? 'block' : 'none';\n",
              "\n",
              "        async function convertToInteractive(key) {\n",
              "          const element = document.querySelector('#df-50eebb06-52eb-4362-bcb9-1dc28da93971');\n",
              "          const dataTable =\n",
              "            await google.colab.kernel.invokeFunction('convertToInteractive',\n",
              "                                                     [key], {});\n",
              "          if (!dataTable) return;\n",
              "\n",
              "          const docLinkHtml = 'Like what you see? Visit the ' +\n",
              "            '<a target=\"_blank\" href=https://colab.research.google.com/notebooks/data_table.ipynb>data table notebook</a>'\n",
              "            + ' to learn more about interactive tables.';\n",
              "          element.innerHTML = '';\n",
              "          dataTable['output_type'] = 'display_data';\n",
              "          await google.colab.output.renderOutput(dataTable, element);\n",
              "          const docLink = document.createElement('div');\n",
              "          docLink.innerHTML = docLinkHtml;\n",
              "          element.appendChild(docLink);\n",
              "        }\n",
              "      </script>\n",
              "    </div>\n",
              "  </div>\n",
              "  "
            ]
          },
          "metadata": {},
          "execution_count": 6
        }
      ]
    },
    {
      "cell_type": "markdown",
      "source": [
        "###Convertendo colunas de data\n",
        "\n",
        "Iremos converter as colunas `Data_de_nascimento` e `Data_Passeio` para o tipo datetime, para facilitar as nossas análises em linha de tempo."
      ],
      "metadata": {
        "id": "EGip9CEZBfxc"
      }
    },
    {
      "cell_type": "code",
      "source": [
        "df1['Data_Passeio'] = pd.to_datetime(df1['Data_Passeio'])\n",
        "df1['Data_de_nascimento'] = pd.to_datetime(df1['Data_de_nascimento'])"
      ],
      "metadata": {
        "id": "SM6lHA1O_j_p"
      },
      "execution_count": 7,
      "outputs": []
    },
    {
      "cell_type": "code",
      "source": [
        "df1.drop(df1.loc[(df1['Data_de_nascimento'] >= df['Data_Passeio'].max()) ].index,axis=0,inplace=True)"
      ],
      "metadata": {
        "id": "ZRnJe0BV-in8"
      },
      "execution_count": 8,
      "outputs": []
    },
    {
      "cell_type": "markdown",
      "metadata": {
        "id": "vvrOjE6UBJMl"
      },
      "source": [
        "###Identificando os valores ausentes\n",
        "\n",
        "É indispensável identificar a quantidade de valores ausentes e qual a representatividade dessa quantidade frente ao total de entradas.\n",
        "\n",
        "* É possível ver que a coluna `Genero` possui **0,14%** dos seus valores faltantes.\n",
        "\n",
        "* A coluna `Cidade_Estado` possui aproximadamente **62%** dos seus valores faltantes.\n",
        "\n",
        "* A coluna `Hora_fim` possui **15%** dos seus valores faltantes.\n",
        "\n",
        "* As colunas `Duracao_Passeio` e `Passeio_atrasado` possuem **25%** dos seus valores faltantes."
      ]
    },
    {
      "cell_type": "code",
      "source": [
        "df1.isnull().sum() / df1.shape[0]"
      ],
      "metadata": {
        "colab": {
          "base_uri": "https://localhost:8080/"
        },
        "id": "wKoXJXwtCNtg",
        "outputId": "d14d6e1a-51c6-42b6-e509-294c4db15f71"
      },
      "execution_count": 9,
      "outputs": [
        {
          "output_type": "execute_result",
          "data": {
            "text/plain": [
              "Genero                0.001402\n",
              "Data_de_nascimento    0.000000\n",
              "Cidade_Estado         0.624800\n",
              "Data_Passeio          0.000000\n",
              "Hora_Inicio           0.000000\n",
              "Hora_Fim              0.152244\n",
              "Estacao_Inicio        0.000000\n",
              "Estacao_Fim           0.000000\n",
              "Duracao_Passeio       0.253606\n",
              "Passeio_atrasado      0.253606\n",
              "dtype: float64"
            ]
          },
          "metadata": {},
          "execution_count": 9
        }
      ]
    },
    {
      "cell_type": "markdown",
      "source": [
        "##**Tratando valores ausentes**"
      ],
      "metadata": {
        "id": "GBIIVPqvGXjU"
      }
    },
    {
      "cell_type": "markdown",
      "source": [
        "###**Preenchendo valores ausentes**\n",
        "\n",
        "Preencher, normalmente é a melhor opção, pois permite que você mantenha dados existentes em outras células.\n",
        "\n",
        "* No caso da coluna **`Genero`**, temos uma variável categórica. O ideal aqui é usar o valor mais frequente para o preenchimento dos valores. Ver qual aquele que tem maior recorrência e substituir diretamente na coluna.\n",
        "\n",
        "Abaixo e possível ver que o valor mais frequente caso é **\"M\"**, e iremos preencher as demais células usando o método `Fillna()`."
      ],
      "metadata": {
        "id": "CYA3Sd-bJVGr"
      }
    },
    {
      "cell_type": "code",
      "source": [
        "display(df1.Genero.value_counts())\n",
        "\n",
        "df1.fillna({\"Genero\": \"M\"},inplace=True)"
      ],
      "metadata": {
        "colab": {
          "base_uri": "https://localhost:8080/",
          "height": 72
        },
        "id": "2ryOtKawGalz",
        "outputId": "6a47fc0d-505f-4589-8e63-133e760aa46b"
      },
      "execution_count": 10,
      "outputs": [
        {
          "output_type": "display_data",
          "data": {
            "text/plain": [
              "M    7434\n",
              "F    2536\n",
              "Name: Genero, dtype: int64"
            ]
          },
          "metadata": {}
        }
      ]
    },
    {
      "cell_type": "markdown",
      "source": [
        "* No caso da coluna **`Cidade_Estado`**, temos situações em que a coluna possui valor ausente, porém é possivel identificar sua localizalção através da coluna **`Estacao_Inicio`**, onde informa a localidade inicial do passeio.\n",
        "\n",
        "Para isso iremos criar uma lista que possuirá todos os nome de cada Cidade/Estado registradas no Dataset, e suas devidas estações, isso servirá como um De/Para ao realizarmos o preenchimento da coluna **`Cidade_Estado`** com base na sua **`Estacao_Inicio`**.\n",
        "Para cada registro onde o campo **`Cidade_Estado`** é Nulo, iremos verificar a sua **`Estacao_Inicio`** e preencher sua Cidade_Estado conforme a lista de De/Para.\n",
        "Isso irá reduzir bastante os valores nulos do Dataset e evitará a perda de informações."
      ],
      "metadata": {
        "id": "o7zJc4YqMdgO"
      }
    },
    {
      "cell_type": "code",
      "source": [
        "Cidade_Estado = df1[\"Cidade_Estado\"].unique()\n",
        "Locais = []\n",
        "for Estado in Cidade_Estado:\n",
        "  dados = df1.loc[df[\"Cidade_Estado\"] == Estado, [\"Cidade_Estado\",\"Estacao_Inicio\"]]\n",
        "  dados = dados[['Estacao_Inicio','Cidade_Estado']].value_counts().index.values\n",
        "  Locais.append(dados)"
      ],
      "metadata": {
        "id": "TC5X78e5loD2"
      },
      "execution_count": 11,
      "outputs": []
    },
    {
      "cell_type": "code",
      "source": [
        "for Local in range(len(Locais)):\n",
        "  for Estacao in range(len(Locais[Local])):\n",
        "    df1.loc[(df[\"Cidade_Estado\"].isnull() == True) & (df[\"Estacao_Inicio\"]==Locais[Local][Estacao][0]), \"Cidade_Estado\"] = Locais[Local][Estacao][1]\n",
        "df1.drop(df1.loc[df1['Cidade_Estado']=='lilicavida@hotmail.com'].index,axis=0,inplace=True)"
      ],
      "metadata": {
        "id": "I0-iPm3V67tM"
      },
      "execution_count": 12,
      "outputs": []
    },
    {
      "cell_type": "code",
      "source": [
        "df1.head()"
      ],
      "metadata": {
        "colab": {
          "base_uri": "https://localhost:8080/",
          "height": 206
        },
        "id": "aOVKKPG15V0J",
        "outputId": "103c5245-b4e9-4a43-ebbb-9cf41fd11660"
      },
      "execution_count": 13,
      "outputs": [
        {
          "output_type": "execute_result",
          "data": {
            "text/plain": [
              "       Genero Data_de_nascimento        Cidade_Estado Data_Passeio  \\\n",
              "58387       F         1966-04-22  Valparaíso de Goiás   2018-03-17   \n",
              "265289      F         1985-12-02                   DF   2018-08-17   \n",
              "207397      M         2016-02-18                   DF   2018-07-09   \n",
              "135948      M         1991-06-21        Novo Hamburgo   2018-05-21   \n",
              "225833      F         1991-05-04                   PR   2018-07-22   \n",
              "\n",
              "       Hora_Inicio  Hora_Fim           Estacao_Inicio       Estacao_Fim  \\\n",
              "58387     16:18:23  15:46:48                 42 - PAT          42 - PAT   \n",
              "265289    18:40:37  19:03:19           6 - Rodoviária      22 - 102 Sul   \n",
              "207397    11:16:17  11:24:59  41 - Instituto de Artes  46 - EQN 408/409   \n",
              "135948    18:49:00  18:55:01               16 - SRTVS      24 - Galeria   \n",
              "225833    11:32:06  13:22:36             32 - SQS 305      32 - SQS 305   \n",
              "\n",
              "        Duracao_Passeio  Passeio_atrasado  \n",
              "58387               NaN               NaN  \n",
              "265289        22.700000               0.0  \n",
              "207397         8.700000               0.0  \n",
              "135948         6.016667               0.0  \n",
              "225833       110.500000               1.0  "
            ],
            "text/html": [
              "\n",
              "  <div id=\"df-4ebb9745-7e00-4836-a905-b625613079a4\">\n",
              "    <div class=\"colab-df-container\">\n",
              "      <div>\n",
              "<style scoped>\n",
              "    .dataframe tbody tr th:only-of-type {\n",
              "        vertical-align: middle;\n",
              "    }\n",
              "\n",
              "    .dataframe tbody tr th {\n",
              "        vertical-align: top;\n",
              "    }\n",
              "\n",
              "    .dataframe thead th {\n",
              "        text-align: right;\n",
              "    }\n",
              "</style>\n",
              "<table border=\"1\" class=\"dataframe\">\n",
              "  <thead>\n",
              "    <tr style=\"text-align: right;\">\n",
              "      <th></th>\n",
              "      <th>Genero</th>\n",
              "      <th>Data_de_nascimento</th>\n",
              "      <th>Cidade_Estado</th>\n",
              "      <th>Data_Passeio</th>\n",
              "      <th>Hora_Inicio</th>\n",
              "      <th>Hora_Fim</th>\n",
              "      <th>Estacao_Inicio</th>\n",
              "      <th>Estacao_Fim</th>\n",
              "      <th>Duracao_Passeio</th>\n",
              "      <th>Passeio_atrasado</th>\n",
              "    </tr>\n",
              "  </thead>\n",
              "  <tbody>\n",
              "    <tr>\n",
              "      <th>58387</th>\n",
              "      <td>F</td>\n",
              "      <td>1966-04-22</td>\n",
              "      <td>Valparaíso de Goiás</td>\n",
              "      <td>2018-03-17</td>\n",
              "      <td>16:18:23</td>\n",
              "      <td>15:46:48</td>\n",
              "      <td>42 - PAT</td>\n",
              "      <td>42 - PAT</td>\n",
              "      <td>NaN</td>\n",
              "      <td>NaN</td>\n",
              "    </tr>\n",
              "    <tr>\n",
              "      <th>265289</th>\n",
              "      <td>F</td>\n",
              "      <td>1985-12-02</td>\n",
              "      <td>DF</td>\n",
              "      <td>2018-08-17</td>\n",
              "      <td>18:40:37</td>\n",
              "      <td>19:03:19</td>\n",
              "      <td>6 - Rodoviária</td>\n",
              "      <td>22 - 102 Sul</td>\n",
              "      <td>22.700000</td>\n",
              "      <td>0.0</td>\n",
              "    </tr>\n",
              "    <tr>\n",
              "      <th>207397</th>\n",
              "      <td>M</td>\n",
              "      <td>2016-02-18</td>\n",
              "      <td>DF</td>\n",
              "      <td>2018-07-09</td>\n",
              "      <td>11:16:17</td>\n",
              "      <td>11:24:59</td>\n",
              "      <td>41 - Instituto de Artes</td>\n",
              "      <td>46 - EQN 408/409</td>\n",
              "      <td>8.700000</td>\n",
              "      <td>0.0</td>\n",
              "    </tr>\n",
              "    <tr>\n",
              "      <th>135948</th>\n",
              "      <td>M</td>\n",
              "      <td>1991-06-21</td>\n",
              "      <td>Novo Hamburgo</td>\n",
              "      <td>2018-05-21</td>\n",
              "      <td>18:49:00</td>\n",
              "      <td>18:55:01</td>\n",
              "      <td>16 - SRTVS</td>\n",
              "      <td>24 - Galeria</td>\n",
              "      <td>6.016667</td>\n",
              "      <td>0.0</td>\n",
              "    </tr>\n",
              "    <tr>\n",
              "      <th>225833</th>\n",
              "      <td>F</td>\n",
              "      <td>1991-05-04</td>\n",
              "      <td>PR</td>\n",
              "      <td>2018-07-22</td>\n",
              "      <td>11:32:06</td>\n",
              "      <td>13:22:36</td>\n",
              "      <td>32 - SQS 305</td>\n",
              "      <td>32 - SQS 305</td>\n",
              "      <td>110.500000</td>\n",
              "      <td>1.0</td>\n",
              "    </tr>\n",
              "  </tbody>\n",
              "</table>\n",
              "</div>\n",
              "      <button class=\"colab-df-convert\" onclick=\"convertToInteractive('df-4ebb9745-7e00-4836-a905-b625613079a4')\"\n",
              "              title=\"Convert this dataframe to an interactive table.\"\n",
              "              style=\"display:none;\">\n",
              "        \n",
              "  <svg xmlns=\"http://www.w3.org/2000/svg\" height=\"24px\"viewBox=\"0 0 24 24\"\n",
              "       width=\"24px\">\n",
              "    <path d=\"M0 0h24v24H0V0z\" fill=\"none\"/>\n",
              "    <path d=\"M18.56 5.44l.94 2.06.94-2.06 2.06-.94-2.06-.94-.94-2.06-.94 2.06-2.06.94zm-11 1L8.5 8.5l.94-2.06 2.06-.94-2.06-.94L8.5 2.5l-.94 2.06-2.06.94zm10 10l.94 2.06.94-2.06 2.06-.94-2.06-.94-.94-2.06-.94 2.06-2.06.94z\"/><path d=\"M17.41 7.96l-1.37-1.37c-.4-.4-.92-.59-1.43-.59-.52 0-1.04.2-1.43.59L10.3 9.45l-7.72 7.72c-.78.78-.78 2.05 0 2.83L4 21.41c.39.39.9.59 1.41.59.51 0 1.02-.2 1.41-.59l7.78-7.78 2.81-2.81c.8-.78.8-2.07 0-2.86zM5.41 20L4 18.59l7.72-7.72 1.47 1.35L5.41 20z\"/>\n",
              "  </svg>\n",
              "      </button>\n",
              "      \n",
              "  <style>\n",
              "    .colab-df-container {\n",
              "      display:flex;\n",
              "      flex-wrap:wrap;\n",
              "      gap: 12px;\n",
              "    }\n",
              "\n",
              "    .colab-df-convert {\n",
              "      background-color: #E8F0FE;\n",
              "      border: none;\n",
              "      border-radius: 50%;\n",
              "      cursor: pointer;\n",
              "      display: none;\n",
              "      fill: #1967D2;\n",
              "      height: 32px;\n",
              "      padding: 0 0 0 0;\n",
              "      width: 32px;\n",
              "    }\n",
              "\n",
              "    .colab-df-convert:hover {\n",
              "      background-color: #E2EBFA;\n",
              "      box-shadow: 0px 1px 2px rgba(60, 64, 67, 0.3), 0px 1px 3px 1px rgba(60, 64, 67, 0.15);\n",
              "      fill: #174EA6;\n",
              "    }\n",
              "\n",
              "    [theme=dark] .colab-df-convert {\n",
              "      background-color: #3B4455;\n",
              "      fill: #D2E3FC;\n",
              "    }\n",
              "\n",
              "    [theme=dark] .colab-df-convert:hover {\n",
              "      background-color: #434B5C;\n",
              "      box-shadow: 0px 1px 3px 1px rgba(0, 0, 0, 0.15);\n",
              "      filter: drop-shadow(0px 1px 2px rgba(0, 0, 0, 0.3));\n",
              "      fill: #FFFFFF;\n",
              "    }\n",
              "  </style>\n",
              "\n",
              "      <script>\n",
              "        const buttonEl =\n",
              "          document.querySelector('#df-4ebb9745-7e00-4836-a905-b625613079a4 button.colab-df-convert');\n",
              "        buttonEl.style.display =\n",
              "          google.colab.kernel.accessAllowed ? 'block' : 'none';\n",
              "\n",
              "        async function convertToInteractive(key) {\n",
              "          const element = document.querySelector('#df-4ebb9745-7e00-4836-a905-b625613079a4');\n",
              "          const dataTable =\n",
              "            await google.colab.kernel.invokeFunction('convertToInteractive',\n",
              "                                                     [key], {});\n",
              "          if (!dataTable) return;\n",
              "\n",
              "          const docLinkHtml = 'Like what you see? Visit the ' +\n",
              "            '<a target=\"_blank\" href=https://colab.research.google.com/notebooks/data_table.ipynb>data table notebook</a>'\n",
              "            + ' to learn more about interactive tables.';\n",
              "          element.innerHTML = '';\n",
              "          dataTable['output_type'] = 'display_data';\n",
              "          await google.colab.output.renderOutput(dataTable, element);\n",
              "          const docLink = document.createElement('div');\n",
              "          docLink.innerHTML = docLinkHtml;\n",
              "          element.appendChild(docLink);\n",
              "        }\n",
              "      </script>\n",
              "    </div>\n",
              "  </div>\n",
              "  "
            ]
          },
          "metadata": {},
          "execution_count": 13
        }
      ]
    },
    {
      "cell_type": "code",
      "source": [
        "print(\"% de Valores Nulos:\\n\")\n",
        "df1.isnull().sum() / df1.shape[0]"
      ],
      "metadata": {
        "colab": {
          "base_uri": "https://localhost:8080/"
        },
        "id": "1FrJklziaNLW",
        "outputId": "4f5c775a-5268-4278-c0e0-344482e11e11"
      },
      "execution_count": 14,
      "outputs": [
        {
          "output_type": "stream",
          "name": "stdout",
          "text": [
            "% de Valores Nulos:\n",
            "\n"
          ]
        },
        {
          "output_type": "execute_result",
          "data": {
            "text/plain": [
              "Genero                0.000000\n",
              "Data_de_nascimento    0.000000\n",
              "Cidade_Estado         0.000000\n",
              "Data_Passeio          0.000000\n",
              "Hora_Inicio           0.000000\n",
              "Hora_Fim              0.153584\n",
              "Estacao_Inicio        0.000000\n",
              "Estacao_Fim           0.000000\n",
              "Duracao_Passeio       0.253491\n",
              "Passeio_atrasado      0.253491\n",
              "dtype: float64"
            ]
          },
          "metadata": {},
          "execution_count": 14
        }
      ]
    },
    {
      "cell_type": "markdown",
      "source": [
        "* Já para a coluna `Duracao_Passeio`, iremos utilizar um método direto e simples para preencher os dados faltantes, que consiste em substituir os valores nulos de uma coluna do tipo numérico com **Mediana** da própria coluna."
      ],
      "metadata": {
        "id": "-boQ5j2niYwC"
      }
    },
    {
      "cell_type": "code",
      "source": [
        "Duracao_md = df1[\"Duracao_Passeio\"].median()\n",
        "df1.fillna({\"Duracao_Passeio\":Duracao_md},inplace =True)\n",
        "df1.isnull().sum() / df1.shape[0]"
      ],
      "metadata": {
        "id": "3efav0rpoQ30",
        "outputId": "cfe327a7-e897-4cb0-eead-aee8827cbb57",
        "colab": {
          "base_uri": "https://localhost:8080/"
        }
      },
      "execution_count": 15,
      "outputs": [
        {
          "output_type": "execute_result",
          "data": {
            "text/plain": [
              "Genero                0.000000\n",
              "Data_de_nascimento    0.000000\n",
              "Cidade_Estado         0.000000\n",
              "Data_Passeio          0.000000\n",
              "Hora_Inicio           0.000000\n",
              "Hora_Fim              0.153584\n",
              "Estacao_Inicio        0.000000\n",
              "Estacao_Fim           0.000000\n",
              "Duracao_Passeio       0.000000\n",
              "Passeio_atrasado      0.253491\n",
              "dtype: float64"
            ]
          },
          "metadata": {},
          "execution_count": 15
        }
      ]
    },
    {
      "cell_type": "markdown",
      "source": [
        "* Conforme análise abaixo, verificamos que a coluna `Passeio_atrasado` considera como **1** para rotas mais demoradas, e que tenha uma Duração de no mínimo **61 minutos**, e **0** para uma rota mais curta e que tenha menos de **61 minutos**.\n",
        "\n",
        "\n"
      ],
      "metadata": {
        "id": "tvqW9MdLckXw"
      }
    },
    {
      "cell_type": "code",
      "source": [
        "fig,(ax,ax1) = plt.subplots(nrows=1, ncols=2, figsize=(10,5))\n",
        "\n",
        "ax.set_title(\"Duracao Máxima para Passeios curtos\")\n",
        "ax1.set_title(\"Duracao Mínima para Passeios demorados\")\n",
        "ax.set_ylabel(\"Minutos\")\n",
        "ax1.set_ylabel(\"Minutos\")\n",
        "#ax1.set_label(\"Passeios Demorados\")\n",
        "df1.loc[df[\"Passeio_atrasado\"]==0,['Duracao_Passeio']].max().plot(kind='bar', ax=ax, color = 'green')\n",
        "df1.loc[df[\"Passeio_atrasado\"]==1,['Duracao_Passeio']].min().plot(kind='bar', ax=ax1,color = 'green')\n",
        "\n",
        "plt.tight_layout()"
      ],
      "metadata": {
        "id": "4t9pvA_3pcbk",
        "outputId": "ebd705cf-b2bf-4f34-8bc1-d68b8ee9a26f",
        "colab": {
          "base_uri": "https://localhost:8080/",
          "height": 369
        }
      },
      "execution_count": 16,
      "outputs": [
        {
          "output_type": "display_data",
          "data": {
            "text/plain": [
              "<Figure size 720x360 with 2 Axes>"
            ],
            "image/png": "[encoded data removed]"
          },
          "metadata": {
            "needs_background": "light"
          }
        }
      ]
    },
    {
      "cell_type": "markdown",
      "source": [
        "Apartir dessa análise, podemos preencher os valores nulos da coluna `Passeio_atrasado` da seguinte forma:\n",
        "\n",
        "**0**: Para linhas em que o valor de `Duracao_Passeio` for **menor** ou **igual** à **60**.\n",
        "\n",
        "**1**: Para linhas em que o valor de `Duracao_Passeio` for **maior** que **60**.\n"
      ],
      "metadata": {
        "id": "Hg-6rvUKVGgw"
      }
    },
    {
      "cell_type": "code",
      "metadata": {
        "id": "VRcP5l-7Bgao"
      },
      "source": [
        "df1.loc[(df1[\"Passeio_atrasado\"].isnull() == True) & (df1['Duracao_Passeio'] <= 60), 'Passeio_atrasado'] = 0\n",
        "df1.loc[(df1[\"Passeio_atrasado\"].isnull() == True) & (df1['Duracao_Passeio'] >  60), 'Passeio_atrasado'] = 1"
      ],
      "execution_count": 17,
      "outputs": []
    },
    {
      "cell_type": "code",
      "source": [
        "print(\"% de Valores Nulos:\\n\")\n",
        "df1.isnull().sum() / df1.shape[0]"
      ],
      "metadata": {
        "colab": {
          "base_uri": "https://localhost:8080/"
        },
        "id": "8HZ3Ev3JYGUf",
        "outputId": "4c6915b6-8acd-42f2-bd57-44430b904ed3"
      },
      "execution_count": 18,
      "outputs": [
        {
          "output_type": "stream",
          "name": "stdout",
          "text": [
            "% de Valores Nulos:\n",
            "\n"
          ]
        },
        {
          "output_type": "execute_result",
          "data": {
            "text/plain": [
              "Genero                0.000000\n",
              "Data_de_nascimento    0.000000\n",
              "Cidade_Estado         0.000000\n",
              "Data_Passeio          0.000000\n",
              "Hora_Inicio           0.000000\n",
              "Hora_Fim              0.153584\n",
              "Estacao_Inicio        0.000000\n",
              "Estacao_Fim           0.000000\n",
              "Duracao_Passeio       0.000000\n",
              "Passeio_atrasado      0.000000\n",
              "dtype: float64"
            ]
          },
          "metadata": {},
          "execution_count": 18
        }
      ]
    },
    {
      "cell_type": "markdown",
      "source": [
        "###**Distribuição das variáveis**"
      ],
      "metadata": {
        "id": "G1yJ6-MPZs7m"
      }
    },
    {
      "cell_type": "code",
      "metadata": {
        "id": "nQvK0IuSBjHR",
        "colab": {
          "base_uri": "https://localhost:8080/",
          "height": 369
        },
        "outputId": "af2164be-03a4-4479-c8f2-e82b7a6155fa"
      },
      "source": [
        "# ver a porcentagem de valores ausentes\n",
        "df1.hist(bins =15,figsize=(10,5))\n",
        "plt.tight_layout()"
      ],
      "execution_count": 19,
      "outputs": [
        {
          "output_type": "display_data",
          "data": {
            "text/plain": [
              "<Figure size 720x360 with 4 Axes>"
            ],
            "image/png": "[encoded data removed]"
          },
          "metadata": {
            "needs_background": "light"
          }
        }
      ]
    },
    {
      "cell_type": "markdown",
      "source": [
        "##**Há Outliers presentes?**\n",
        "\n",
        "Através do Histograma é possível notar indícios de presenças de outliers. Por exemplo a variável `Duracao_Passeio`.\n",
        "\n",
        "\n",
        "Os valores não seguem uma distruição, e distorcem toda a representação gráfica. Para confirmar, há duas maneiras rápidas que auxiliam a detecção de *outliers*. São elas:\n",
        "\n",
        "* Resumo estatístico por meio do método `describe()`\n",
        "* Plotar `boxplots` para a variável."
      ],
      "metadata": {
        "id": "68lCC1-caofe"
      }
    },
    {
      "cell_type": "code",
      "source": [
        "df1[['Duracao_Passeio','Passeio_atrasado']].describe()"
      ],
      "metadata": {
        "colab": {
          "base_uri": "https://localhost:8080/",
          "height": 300
        },
        "id": "Vn0s_4w_bNlN",
        "outputId": "35131833-e288-4db3-c7b6-48d0f947450f"
      },
      "execution_count": 20,
      "outputs": [
        {
          "output_type": "execute_result",
          "data": {
            "text/plain": [
              "       Duracao_Passeio  Passeio_atrasado\n",
              "count      9669.000000       9669.000000\n",
              "mean         25.876264          0.074465\n",
              "std          47.760088          0.262539\n",
              "min           3.000000          0.000000\n",
              "25%           9.816667          0.000000\n",
              "50%          14.233333          0.000000\n",
              "75%          24.233333          0.000000\n",
              "max         934.833333          1.000000"
            ],
            "text/html": [
              "\n",
              "  <div id=\"df-0815b9ff-8997-45d6-8242-e4cbb6dc34bb\">\n",
              "    <div class=\"colab-df-container\">\n",
              "      <div>\n",
              "<style scoped>\n",
              "    .dataframe tbody tr th:only-of-type {\n",
              "        vertical-align: middle;\n",
              "    }\n",
              "\n",
              "    .dataframe tbody tr th {\n",
              "        vertical-align: top;\n",
              "    }\n",
              "\n",
              "    .dataframe thead th {\n",
              "        text-align: right;\n",
              "    }\n",
              "</style>\n",
              "<table border=\"1\" class=\"dataframe\">\n",
              "  <thead>\n",
              "    <tr style=\"text-align: right;\">\n",
              "      <th></th>\n",
              "      <th>Duracao_Passeio</th>\n",
              "      <th>Passeio_atrasado</th>\n",
              "    </tr>\n",
              "  </thead>\n",
              "  <tbody>\n",
              "    <tr>\n",
              "      <th>count</th>\n",
              "      <td>9669.000000</td>\n",
              "      <td>9669.000000</td>\n",
              "    </tr>\n",
              "    <tr>\n",
              "      <th>mean</th>\n",
              "      <td>25.876264</td>\n",
              "      <td>0.074465</td>\n",
              "    </tr>\n",
              "    <tr>\n",
              "      <th>std</th>\n",
              "      <td>47.760088</td>\n",
              "      <td>0.262539</td>\n",
              "    </tr>\n",
              "    <tr>\n",
              "      <th>min</th>\n",
              "      <td>3.000000</td>\n",
              "      <td>0.000000</td>\n",
              "    </tr>\n",
              "    <tr>\n",
              "      <th>25%</th>\n",
              "      <td>9.816667</td>\n",
              "      <td>0.000000</td>\n",
              "    </tr>\n",
              "    <tr>\n",
              "      <th>50%</th>\n",
              "      <td>14.233333</td>\n",
              "      <td>0.000000</td>\n",
              "    </tr>\n",
              "    <tr>\n",
              "      <th>75%</th>\n",
              "      <td>24.233333</td>\n",
              "      <td>0.000000</td>\n",
              "    </tr>\n",
              "    <tr>\n",
              "      <th>max</th>\n",
              "      <td>934.833333</td>\n",
              "      <td>1.000000</td>\n",
              "    </tr>\n",
              "  </tbody>\n",
              "</table>\n",
              "</div>\n",
              "      <button class=\"colab-df-convert\" onclick=\"convertToInteractive('df-0815b9ff-8997-45d6-8242-e4cbb6dc34bb')\"\n",
              "              title=\"Convert this dataframe to an interactive table.\"\n",
              "              style=\"display:none;\">\n",
              "        \n",
              "  <svg xmlns=\"http://www.w3.org/2000/svg\" height=\"24px\"viewBox=\"0 0 24 24\"\n",
              "       width=\"24px\">\n",
              "    <path d=\"M0 0h24v24H0V0z\" fill=\"none\"/>\n",
              "    <path d=\"M18.56 5.44l.94 2.06.94-2.06 2.06-.94-2.06-.94-.94-2.06-.94 2.06-2.06.94zm-11 1L8.5 8.5l.94-2.06 2.06-.94-2.06-.94L8.5 2.5l-.94 2.06-2.06.94zm10 10l.94 2.06.94-2.06 2.06-.94-2.06-.94-.94-2.06-.94 2.06-2.06.94z\"/><path d=\"M17.41 7.96l-1.37-1.37c-.4-.4-.92-.59-1.43-.59-.52 0-1.04.2-1.43.59L10.3 9.45l-7.72 7.72c-.78.78-.78 2.05 0 2.83L4 21.41c.39.39.9.59 1.41.59.51 0 1.02-.2 1.41-.59l7.78-7.78 2.81-2.81c.8-.78.8-2.07 0-2.86zM5.41 20L4 18.59l7.72-7.72 1.47 1.35L5.41 20z\"/>\n",
              "  </svg>\n",
              "      </button>\n",
              "      \n",
              "  <style>\n",
              "    .colab-df-container {\n",
              "      display:flex;\n",
              "      flex-wrap:wrap;\n",
              "      gap: 12px;\n",
              "    }\n",
              "\n",
              "    .colab-df-convert {\n",
              "      background-color: #E8F0FE;\n",
              "      border: none;\n",
              "      border-radius: 50%;\n",
              "      cursor: pointer;\n",
              "      display: none;\n",
              "      fill: #1967D2;\n",
              "      height: 32px;\n",
              "      padding: 0 0 0 0;\n",
              "      width: 32px;\n",
              "    }\n",
              "\n",
              "    .colab-df-convert:hover {\n",
              "      background-color: #E2EBFA;\n",
              "      box-shadow: 0px 1px 2px rgba(60, 64, 67, 0.3), 0px 1px 3px 1px rgba(60, 64, 67, 0.15);\n",
              "      fill: #174EA6;\n",
              "    }\n",
              "\n",
              "    [theme=dark] .colab-df-convert {\n",
              "      background-color: #3B4455;\n",
              "      fill: #D2E3FC;\n",
              "    }\n",
              "\n",
              "    [theme=dark] .colab-df-convert:hover {\n",
              "      background-color: #434B5C;\n",
              "      box-shadow: 0px 1px 3px 1px rgba(0, 0, 0, 0.15);\n",
              "      filter: drop-shadow(0px 1px 2px rgba(0, 0, 0, 0.3));\n",
              "      fill: #FFFFFF;\n",
              "    }\n",
              "  </style>\n",
              "\n",
              "      <script>\n",
              "        const buttonEl =\n",
              "          document.querySelector('#df-0815b9ff-8997-45d6-8242-e4cbb6dc34bb button.colab-df-convert');\n",
              "        buttonEl.style.display =\n",
              "          google.colab.kernel.accessAllowed ? 'block' : 'none';\n",
              "\n",
              "        async function convertToInteractive(key) {\n",
              "          const element = document.querySelector('#df-0815b9ff-8997-45d6-8242-e4cbb6dc34bb');\n",
              "          const dataTable =\n",
              "            await google.colab.kernel.invokeFunction('convertToInteractive',\n",
              "                                                     [key], {});\n",
              "          if (!dataTable) return;\n",
              "\n",
              "          const docLinkHtml = 'Like what you see? Visit the ' +\n",
              "            '<a target=\"_blank\" href=https://colab.research.google.com/notebooks/data_table.ipynb>data table notebook</a>'\n",
              "            + ' to learn more about interactive tables.';\n",
              "          element.innerHTML = '';\n",
              "          dataTable['output_type'] = 'display_data';\n",
              "          await google.colab.output.renderOutput(dataTable, element);\n",
              "          const docLink = document.createElement('div');\n",
              "          docLink.innerHTML = docLinkHtml;\n",
              "          element.appendChild(docLink);\n",
              "        }\n",
              "      </script>\n",
              "    </div>\n",
              "  </div>\n",
              "  "
            ]
          },
          "metadata": {},
          "execution_count": 20
        }
      ]
    },
    {
      "cell_type": "markdown",
      "source": [
        "Olhando o resumo estatístico acima, podemos confirmar a seguinte hipótese:\n",
        "\n",
        "* A variável `Duracao_Passeio` possui 75% dos valores abaixo de **24 minutos**, porém seu valor máximo é de **934 minutos**.\n",
        "\n",
        "#### Boxplot para Duracao_Passeio"
      ],
      "metadata": {
        "id": "Y9ybN4_Qdu9M"
      }
    },
    {
      "cell_type": "code",
      "source": [
        "df1['Duracao_Passeio'].plot(kind='box', vert= False, figsize=(10,5))"
      ],
      "metadata": {
        "colab": {
          "base_uri": "https://localhost:8080/",
          "height": 338
        },
        "id": "ddEzIJaneKzz",
        "outputId": "c9681249-0362-4e20-8ae9-8d10e05dab0f"
      },
      "execution_count": 21,
      "outputs": [
        {
          "output_type": "execute_result",
          "data": {
            "text/plain": [
              "<matplotlib.axes._subplots.AxesSubplot at 0x7f5954f9f2e0>"
            ]
          },
          "metadata": {},
          "execution_count": 21
        },
        {
          "output_type": "display_data",
          "data": {
            "text/plain": [
              "<Figure size 720x360 with 1 Axes>"
            ],
            "image/png": "[encoded data removed]"
          },
          "metadata": {
            "needs_background": "light"
          }
        }
      ]
    },
    {
      "cell_type": "markdown",
      "source": [
        "##**Indentificando Outliers com Amplitude Interquartil**\n",
        "A amplitude interquartil é uma medida de dispersão dos dados. No nosso caso, utilizaremos o cálculo para analisar a dispersão dos valores da coluna `Duracao_Passeio`, e definir um limite de valor mínimo e máximo, que quando ultrapassados, devemos considerar **Outliers**.\n",
        "\n",
        "* Percentil 25 = Primeiro quartil (Q1)\n",
        "* Percentil 75 = Terceiro quartil (Q3)\n",
        "\n",
        "`Amplitude Interquartil` = Diferença entre Q1(primeiro quartil) e Q3(terceiro quartil)\n",
        "\n",
        "`Limite Inferior` = Q1 - (1.5 * Amplitude Interquartil) \n",
        "\n",
        "`Limite Superior` = Q3 + (1.5 * Amplitude Interquartil)\n"
      ],
      "metadata": {
        "id": "Uxd2p6UEaGUO"
      }
    },
    {
      "cell_type": "markdown",
      "source": [
        "Calculando quartis **Q1** e **Q3**."
      ],
      "metadata": {
        "id": "A3ilqHcptdxD"
      }
    },
    {
      "cell_type": "code",
      "source": [
        "Q1 = np.percentile(df1['Duracao_Passeio'],25)\n",
        "Q3 = np.percentile(df1['Duracao_Passeio'],75)\n",
        "\n",
        "print(\"Q1 = {}\".format(Q1))\n",
        "print(\"Q3 = {}\".format(Q3))"
      ],
      "metadata": {
        "colab": {
          "base_uri": "https://localhost:8080/"
        },
        "id": "YiRknB46jB2t",
        "outputId": "2b64bf4f-ac9b-4ef1-9020-168b9fae4b76"
      },
      "execution_count": 22,
      "outputs": [
        {
          "output_type": "stream",
          "name": "stdout",
          "text": [
            "Q1 = 9.816666666666666\n",
            "Q3 = 24.23333333333333\n"
          ]
        }
      ]
    },
    {
      "cell_type": "markdown",
      "source": [
        "Definindo **limite inferior** e **limite Superior**."
      ],
      "metadata": {
        "id": "AWyQytljto24"
      }
    },
    {
      "cell_type": "code",
      "source": [
        "C = 1.5\n",
        "IIQ= Q3-Q1\n",
        "LI = Q1 - (C*IIQ)\n",
        "LS = Q3 + (C*IIQ)\n",
        "\n",
        "print(\"IIQ: {}\".format(IIQ))\n",
        "print(\"Limites: \")\n",
        "print(\"Inferior: {}\".format(LI))\n",
        "print(\"Superior: {}\".format(LS))"
      ],
      "metadata": {
        "colab": {
          "base_uri": "https://localhost:8080/"
        },
        "id": "SoHi2DnVkYDp",
        "outputId": "344a2225-5531-4ec5-8eb3-ad982c8fc5cd"
      },
      "execution_count": 23,
      "outputs": [
        {
          "output_type": "stream",
          "name": "stdout",
          "text": [
            "IIQ: 14.416666666666664\n",
            "Limites: \n",
            "Inferior: -11.80833333333333\n",
            "Superior: 45.85833333333333\n"
          ]
        }
      ]
    },
    {
      "cell_type": "code",
      "source": [],
      "metadata": {
        "id": "KtRqIjvIuMUf"
      },
      "execution_count": 23,
      "outputs": []
    },
    {
      "cell_type": "markdown",
      "source": [
        "* Dessa forma, considerando esse critério, podemos afirmar que valores de **Duracao_Passeio** superiores a **45** e inferiores a **-11** são outliers nessa amostra."
      ],
      "metadata": {
        "id": "Q1RNS_-Jm6sU"
      }
    },
    {
      "cell_type": "markdown",
      "source": [
        "##Remoção de Outliers\n",
        "\n",
        "Já que identificamos *outliers* nas variável `Duracao_Passeio`, vamos agora limpar do *DataFrame* os valores que ultrapassam os limites e plotar novamente o histograma."
      ],
      "metadata": {
        "id": "X4TPE3ZanqEc"
      }
    },
    {
      "cell_type": "code",
      "source": [
        "df1_clean = df1.copy()\n",
        "df1_clean.drop(df1_clean.loc[(df1_clean[\"Duracao_Passeio\"] < LI) | (df1_clean[\"Duracao_Passeio\"] > LS)].index,axis=0,inplace=True)\n",
        "\n",
        "df1_clean.hist(bins=15,figsize=(12,6))\n",
        "\n",
        "plt.tight_layout()"
      ],
      "metadata": {
        "colab": {
          "base_uri": "https://localhost:8080/",
          "height": 441
        },
        "id": "p0SbRqNOoeH3",
        "outputId": "b5860fee-f5c3-40de-fab6-53feaa807d18"
      },
      "execution_count": 24,
      "outputs": [
        {
          "output_type": "display_data",
          "data": {
            "text/plain": [
              "<Figure size 864x432 with 4 Axes>"
            ],
            "image/png": "[encoded data removed]"
          },
          "metadata": {
            "needs_background": "light"
          }
        }
      ]
    },
    {
      "cell_type": "markdown",
      "source": [
        "### **Adição de variáveis**\n",
        "\n",
        "Para podermos extrair mais informações do Dataset, podemos adicionar mais duas váriaveis que poderão nos dar bons insights.\n",
        "\n",
        "A partir da coluna `Data_de_nascimento` poderemos extrair a idade dos usuários.\n",
        "\n",
        "A partir da coluna `Data_Passeio` poderemos extrair o dia da semana em que os usuários utilizaram as bikes.\n"
      ],
      "metadata": {
        "id": "QM7c9qu5q3zE"
      }
    },
    {
      "cell_type": "markdown",
      "source": [
        "##Dia da semana\n",
        "\n",
        "Utilizando o método `Weekday()` da biblioteca `Datetime`, podemos passar as datas dos passeios realizados, e obter o dia da semana.\n",
        "Em seguida iremos fazer uma tratativa para atrelar o nome do dia."
      ],
      "metadata": {
        "id": "PoFt1mE8B0pl"
      }
    },
    {
      "cell_type": "code",
      "source": [
        "import datetime as dt\n",
        "\n",
        "df1_clean['Dia_da_semana'] = 'N/A'\n",
        "df1_clean['Dia'] = 'N/A'\n",
        "Dia_da_semana = []\n",
        "\n",
        "for i in df1_clean['Data_Passeio']:\n",
        "  Dia_da_semana.append(i.weekday())\n",
        "\n",
        "df1_clean['Dia_da_semana'] = Dia_da_semana\n",
        "\n",
        "df1_clean.loc[df1_clean['Dia_da_semana'] == 0, 'Dia'] = \"Segunda\"\n",
        "df1_clean.loc[df1_clean['Dia_da_semana'] == 1, 'Dia'] = \"Terca\"\n",
        "df1_clean.loc[df1_clean['Dia_da_semana'] == 2, 'Dia'] = \"Quarta\"\n",
        "df1_clean.loc[df1_clean['Dia_da_semana'] == 3, 'Dia'] = \"Quinta\"\n",
        "df1_clean.loc[df1_clean['Dia_da_semana'] == 4, 'Dia'] = \"Sexta\"\n",
        "df1_clean.loc[df1_clean['Dia_da_semana'] == 5, 'Dia'] = \"Sabado\"\n",
        "df1_clean.loc[df1_clean['Dia_da_semana'] == 6, 'Dia'] = \"Domingo\""
      ],
      "metadata": {
        "id": "1IGIaYVQsBRD"
      },
      "execution_count": 25,
      "outputs": []
    },
    {
      "cell_type": "markdown",
      "source": [
        "##Idade Do Usuário\n",
        "\n",
        "Podemos calcular a idade de cada usuário subtraindo a coluna `Data_de_Nascimento` com a data em que o Dataset foi criado (2018).\n",
        "E iremos definir uma idade mínima de usuários, de pelo menos `6 anos`."
      ],
      "metadata": {
        "id": "ccWpw2MSmow3"
      }
    },
    {
      "cell_type": "code",
      "source": [
        "from datetime import date\n",
        "df1_clean['Idade'] = 0\n",
        "df1_clean.loc[:,'Idade'] = (2018 - df1_clean[\"Data_de_nascimento\"].dt.year)\n",
        "df1_clean.drop(df1_clean.loc[df1_clean['Idade']<=5].index,axis=0,inplace=True)"
      ],
      "metadata": {
        "id": "RVBNsrlaaZs_"
      },
      "execution_count": 26,
      "outputs": []
    },
    {
      "cell_type": "markdown",
      "source": [
        "Vamos observar como ficou nosso Dataset, antes de começar as análises."
      ],
      "metadata": {
        "id": "WPOKMkjdpzrT"
      }
    },
    {
      "cell_type": "code",
      "source": [
        "df1_clean.head()"
      ],
      "metadata": {
        "colab": {
          "base_uri": "https://localhost:8080/",
          "height": 285
        },
        "id": "djhvxV97ptyM",
        "outputId": "cddd5ff3-1fce-4ff5-9cfd-43d6dde266bf"
      },
      "execution_count": 27,
      "outputs": [
        {
          "output_type": "execute_result",
          "data": {
            "text/plain": [
              "       Genero Data_de_nascimento        Cidade_Estado Data_Passeio  \\\n",
              "58387       F         1966-04-22  Valparaíso de Goiás   2018-03-17   \n",
              "265289      F         1985-12-02                   DF   2018-08-17   \n",
              "135948      M         1991-06-21        Novo Hamburgo   2018-05-21   \n",
              "85776       M         1991-11-04                   DF   2018-04-11   \n",
              "189737      M         1984-08-30                   RN   2018-06-25   \n",
              "\n",
              "       Hora_Inicio  Hora_Fim     Estacao_Inicio     Estacao_Fim  \\\n",
              "58387     16:18:23  15:46:48           42 - PAT        42 - PAT   \n",
              "265289    18:40:37  19:03:19     6 - Rodoviária    22 - 102 Sul   \n",
              "135948    18:49:00  18:55:01         16 - SRTVS    24 - Galeria   \n",
              "85776     19:26:19  19:41:54  11 - Rodoviária 2    35 - CLN 403   \n",
              "189737    20:30:23       NaN       36 - CLN 204  6 - Rodoviária   \n",
              "\n",
              "        Duracao_Passeio  Passeio_atrasado  Dia_da_semana      Dia  Idade  \n",
              "58387         14.233333               0.0              5   Sabado     52  \n",
              "265289        22.700000               0.0              4    Sexta     33  \n",
              "135948         6.016667               0.0              0  Segunda     27  \n",
              "85776         15.583333               0.0              2   Quarta     27  \n",
              "189737        14.233333               0.0              0  Segunda     34  "
            ],
            "text/html": [
              "\n",
              "  <div id=\"df-93c66ca1-84ae-43e4-b49d-d38126ee7e44\">\n",
              "    <div class=\"colab-df-container\">\n",
              "      <div>\n",
              "<style scoped>\n",
              "    .dataframe tbody tr th:only-of-type {\n",
              "        vertical-align: middle;\n",
              "    }\n",
              "\n",
              "    .dataframe tbody tr th {\n",
              "        vertical-align: top;\n",
              "    }\n",
              "\n",
              "    .dataframe thead th {\n",
              "        text-align: right;\n",
              "    }\n",
              "</style>\n",
              "<table border=\"1\" class=\"dataframe\">\n",
              "  <thead>\n",
              "    <tr style=\"text-align: right;\">\n",
              "      <th></th>\n",
              "      <th>Genero</th>\n",
              "      <th>Data_de_nascimento</th>\n",
              "      <th>Cidade_Estado</th>\n",
              "      <th>Data_Passeio</th>\n",
              "      <th>Hora_Inicio</th>\n",
              "      <th>Hora_Fim</th>\n",
              "      <th>Estacao_Inicio</th>\n",
              "      <th>Estacao_Fim</th>\n",
              "      <th>Duracao_Passeio</th>\n",
              "      <th>Passeio_atrasado</th>\n",
              "      <th>Dia_da_semana</th>\n",
              "      <th>Dia</th>\n",
              "      <th>Idade</th>\n",
              "    </tr>\n",
              "  </thead>\n",
              "  <tbody>\n",
              "    <tr>\n",
              "      <th>58387</th>\n",
              "      <td>F</td>\n",
              "      <td>1966-04-22</td>\n",
              "      <td>Valparaíso de Goiás</td>\n",
              "      <td>2018-03-17</td>\n",
              "      <td>16:18:23</td>\n",
              "      <td>15:46:48</td>\n",
              "      <td>42 - PAT</td>\n",
              "      <td>42 - PAT</td>\n",
              "      <td>14.233333</td>\n",
              "      <td>0.0</td>\n",
              "      <td>5</td>\n",
              "      <td>Sabado</td>\n",
              "      <td>52</td>\n",
              "    </tr>\n",
              "    <tr>\n",
              "      <th>265289</th>\n",
              "      <td>F</td>\n",
              "      <td>1985-12-02</td>\n",
              "      <td>DF</td>\n",
              "      <td>2018-08-17</td>\n",
              "      <td>18:40:37</td>\n",
              "      <td>19:03:19</td>\n",
              "      <td>6 - Rodoviária</td>\n",
              "      <td>22 - 102 Sul</td>\n",
              "      <td>22.700000</td>\n",
              "      <td>0.0</td>\n",
              "      <td>4</td>\n",
              "      <td>Sexta</td>\n",
              "      <td>33</td>\n",
              "    </tr>\n",
              "    <tr>\n",
              "      <th>135948</th>\n",
              "      <td>M</td>\n",
              "      <td>1991-06-21</td>\n",
              "      <td>Novo Hamburgo</td>\n",
              "      <td>2018-05-21</td>\n",
              "      <td>18:49:00</td>\n",
              "      <td>18:55:01</td>\n",
              "      <td>16 - SRTVS</td>\n",
              "      <td>24 - Galeria</td>\n",
              "      <td>6.016667</td>\n",
              "      <td>0.0</td>\n",
              "      <td>0</td>\n",
              "      <td>Segunda</td>\n",
              "      <td>27</td>\n",
              "    </tr>\n",
              "    <tr>\n",
              "      <th>85776</th>\n",
              "      <td>M</td>\n",
              "      <td>1991-11-04</td>\n",
              "      <td>DF</td>\n",
              "      <td>2018-04-11</td>\n",
              "      <td>19:26:19</td>\n",
              "      <td>19:41:54</td>\n",
              "      <td>11 - Rodoviária 2</td>\n",
              "      <td>35 - CLN 403</td>\n",
              "      <td>15.583333</td>\n",
              "      <td>0.0</td>\n",
              "      <td>2</td>\n",
              "      <td>Quarta</td>\n",
              "      <td>27</td>\n",
              "    </tr>\n",
              "    <tr>\n",
              "      <th>189737</th>\n",
              "      <td>M</td>\n",
              "      <td>1984-08-30</td>\n",
              "      <td>RN</td>\n",
              "      <td>2018-06-25</td>\n",
              "      <td>20:30:23</td>\n",
              "      <td>NaN</td>\n",
              "      <td>36 - CLN 204</td>\n",
              "      <td>6 - Rodoviária</td>\n",
              "      <td>14.233333</td>\n",
              "      <td>0.0</td>\n",
              "      <td>0</td>\n",
              "      <td>Segunda</td>\n",
              "      <td>34</td>\n",
              "    </tr>\n",
              "  </tbody>\n",
              "</table>\n",
              "</div>\n",
              "      <button class=\"colab-df-convert\" onclick=\"convertToInteractive('df-93c66ca1-84ae-43e4-b49d-d38126ee7e44')\"\n",
              "              title=\"Convert this dataframe to an interactive table.\"\n",
              "              style=\"display:none;\">\n",
              "        \n",
              "  <svg xmlns=\"http://www.w3.org/2000/svg\" height=\"24px\"viewBox=\"0 0 24 24\"\n",
              "       width=\"24px\">\n",
              "    <path d=\"M0 0h24v24H0V0z\" fill=\"none\"/>\n",
              "    <path d=\"M18.56 5.44l.94 2.06.94-2.06 2.06-.94-2.06-.94-.94-2.06-.94 2.06-2.06.94zm-11 1L8.5 8.5l.94-2.06 2.06-.94-2.06-.94L8.5 2.5l-.94 2.06-2.06.94zm10 10l.94 2.06.94-2.06 2.06-.94-2.06-.94-.94-2.06-.94 2.06-2.06.94z\"/><path d=\"M17.41 7.96l-1.37-1.37c-.4-.4-.92-.59-1.43-.59-.52 0-1.04.2-1.43.59L10.3 9.45l-7.72 7.72c-.78.78-.78 2.05 0 2.83L4 21.41c.39.39.9.59 1.41.59.51 0 1.02-.2 1.41-.59l7.78-7.78 2.81-2.81c.8-.78.8-2.07 0-2.86zM5.41 20L4 18.59l7.72-7.72 1.47 1.35L5.41 20z\"/>\n",
              "  </svg>\n",
              "      </button>\n",
              "      \n",
              "  <style>\n",
              "    .colab-df-container {\n",
              "      display:flex;\n",
              "      flex-wrap:wrap;\n",
              "      gap: 12px;\n",
              "    }\n",
              "\n",
              "    .colab-df-convert {\n",
              "      background-color: #E8F0FE;\n",
              "      border: none;\n",
              "      border-radius: 50%;\n",
              "      cursor: pointer;\n",
              "      display: none;\n",
              "      fill: #1967D2;\n",
              "      height: 32px;\n",
              "      padding: 0 0 0 0;\n",
              "      width: 32px;\n",
              "    }\n",
              "\n",
              "    .colab-df-convert:hover {\n",
              "      background-color: #E2EBFA;\n",
              "      box-shadow: 0px 1px 2px rgba(60, 64, 67, 0.3), 0px 1px 3px 1px rgba(60, 64, 67, 0.15);\n",
              "      fill: #174EA6;\n",
              "    }\n",
              "\n",
              "    [theme=dark] .colab-df-convert {\n",
              "      background-color: #3B4455;\n",
              "      fill: #D2E3FC;\n",
              "    }\n",
              "\n",
              "    [theme=dark] .colab-df-convert:hover {\n",
              "      background-color: #434B5C;\n",
              "      box-shadow: 0px 1px 3px 1px rgba(0, 0, 0, 0.15);\n",
              "      filter: drop-shadow(0px 1px 2px rgba(0, 0, 0, 0.3));\n",
              "      fill: #FFFFFF;\n",
              "    }\n",
              "  </style>\n",
              "\n",
              "      <script>\n",
              "        const buttonEl =\n",
              "          document.querySelector('#df-93c66ca1-84ae-43e4-b49d-d38126ee7e44 button.colab-df-convert');\n",
              "        buttonEl.style.display =\n",
              "          google.colab.kernel.accessAllowed ? 'block' : 'none';\n",
              "\n",
              "        async function convertToInteractive(key) {\n",
              "          const element = document.querySelector('#df-93c66ca1-84ae-43e4-b49d-d38126ee7e44');\n",
              "          const dataTable =\n",
              "            await google.colab.kernel.invokeFunction('convertToInteractive',\n",
              "                                                     [key], {});\n",
              "          if (!dataTable) return;\n",
              "\n",
              "          const docLinkHtml = 'Like what you see? Visit the ' +\n",
              "            '<a target=\"_blank\" href=https://colab.research.google.com/notebooks/data_table.ipynb>data table notebook</a>'\n",
              "            + ' to learn more about interactive tables.';\n",
              "          element.innerHTML = '';\n",
              "          dataTable['output_type'] = 'display_data';\n",
              "          await google.colab.output.renderOutput(dataTable, element);\n",
              "          const docLink = document.createElement('div');\n",
              "          docLink.innerHTML = docLinkHtml;\n",
              "          element.appendChild(docLink);\n",
              "        }\n",
              "      </script>\n",
              "    </div>\n",
              "  </div>\n",
              "  "
            ]
          },
          "metadata": {},
          "execution_count": 27
        }
      ]
    },
    {
      "cell_type": "markdown",
      "source": [
        "####**Análise de Dados**"
      ],
      "metadata": {
        "id": "QxtxpBoJu1G8"
      }
    },
    {
      "cell_type": "markdown",
      "source": [
        "##**Q1. Quais são as 3 localidades onde se concentram o maior número de passeios?**\n"
      ],
      "metadata": {
        "id": "59e22NzorREZ"
      }
    },
    {
      "cell_type": "markdown",
      "source": [
        "##**Q2. Qual é o tempo médio de duração dos passeios da amostra, e quais são as 3 localidades que possuem as maiores médias de duração?**"
      ],
      "metadata": {
        "id": "7t0HPyW17dKh"
      }
    },
    {
      "cell_type": "markdown",
      "source": [
        "Para responder as perguntas de negócio, iremos utlizar dois gráficos."
      ],
      "metadata": {
        "id": "_0CzG6s6ArA4"
      }
    },
    {
      "cell_type": "code",
      "source": [
        "data = df1_clean.Cidade_Estado.value_counts().head(3)\n",
        "data1 = df1_clean[['Cidade_Estado','Duracao_Passeio']].groupby('Cidade_Estado').mean().sort_values('Duracao_Passeio',ascending=False).head(3)\n",
        "\n",
        "fig, (ax,ax1) = plt.subplots(nrows=1,ncols=2)\n",
        "\n",
        "ax.set_title(\"TOP 3 QTD de passeios por localidade\")\n",
        "ax.set_xlabel(\"Localidade\")\n",
        "ax.set_ylabel(\"Quantidade\")\n",
        "\n",
        "ax1.set_title(\"TOP 3 Médias de Duração de Passeios por localidade\")\n",
        "ax1.set_xlabel(\"Localidade\")\n",
        "ax1.set_ylabel(\"Duração Média\")\n",
        "\n",
        "ax.axvspan(xmin=-1, xmax=0.5, ymin=0, ymax=2, color='#d9d9d9', alpha=0.5)\n",
        "ax1.axvspan(xmin=-1, xmax=0.5, ymin=0, ymax=2, color='#d9d9d9', alpha=0.5)\n",
        "\n",
        "data.plot(kind='bar',figsize=(15,5),ax=ax, color = 'green')\n",
        "\n",
        "data1.plot(kind='bar',figsize=(15,5),ax=ax1, color = 'green')\n",
        "print(\"\\nTEMPO MÉDIO DE DURAÇÃO: {}\\n\".format(df1_clean['Duracao_Passeio'].mean()))\n",
        "\n",
        "plt.tight_layout()"
      ],
      "metadata": {
        "colab": {
          "base_uri": "https://localhost:8080/",
          "height": 424
        },
        "id": "0UW-IJQ0rNBp",
        "outputId": "53d3c7b2-de44-493e-8c93-90ac75ef7883"
      },
      "execution_count": 37,
      "outputs": [
        {
          "output_type": "stream",
          "name": "stdout",
          "text": [
            "\n",
            "TEMPO MÉDIO DE DURAÇÃO: 14.911439757307424\n",
            "\n"
          ]
        },
        {
          "output_type": "display_data",
          "data": {
            "text/plain": [
              "<Figure size 1080x360 with 2 Axes>"
            ],
            "image/png": "[encoded data removed]"
          },
          "metadata": {
            "needs_background": "light"
          }
        }
      ]
    },
    {
      "cell_type": "markdown",
      "source": [
        "**Q1** **R:** Analisando o primeiro gráfico acima, as localidades com mais usuários são respectivamente: **DF**(2537), **CE**(601), **Valparaíso - GO**(408).\n",
        "\n",
        "**Q2** **R:** O tempo médio de passeios nessa amostra é de aproximadamente **15 minutos**. Analisando o segundo gráfico, as localidades com maiores médias de duração de passeios são respectivamente: **TO**(43min), **ES**(23min), **MS**(20min).\n"
      ],
      "metadata": {
        "id": "gKiIpKWY1KWp"
      }
    },
    {
      "cell_type": "markdown",
      "source": [
        "##**Q3. Qual a média de idade dos usuários da amostra, e qual a localidade possui a maior média de idade?**"
      ],
      "metadata": {
        "id": "_XNFUcNNqD7n"
      }
    },
    {
      "cell_type": "markdown",
      "source": [
        "**Q3** **R:** A média de idade da amostra é aproximadamente **29 anos**. A localidade com maior média de idade de usuários é **`Planaltina de Goiais`** com média de 59 anos."
      ],
      "metadata": {
        "id": "0nTIsu8qxQLa"
      }
    },
    {
      "cell_type": "code",
      "source": [
        "data = df1_clean.loc[:,['Cidade_Estado','Idade']].groupby('Cidade_Estado').mean().sort_values('Idade',ascending = False).head(5).reset_index()\n",
        "print(\"\\nMÉDIA DE IDADE: {}\\n\".format(df1_clean['Idade'].mean()))\n",
        "sns.barplot(x='Cidade_Estado',y='Idade', palette ='BuGn_d', data = data)\n",
        "plt.show()\n",
        "plt.tight_layout()"
      ],
      "metadata": {
        "colab": {
          "base_uri": "https://localhost:8080/",
          "height": 356
        },
        "id": "ISv7NrV_oWmb",
        "outputId": "220b3931-a63f-42dc-93bb-c72b74542b42"
      },
      "execution_count": 38,
      "outputs": [
        {
          "output_type": "stream",
          "name": "stdout",
          "text": [
            "\n",
            "MÉDIA DE IDADE: 28.988316320255812\n",
            "\n"
          ]
        },
        {
          "output_type": "display_data",
          "data": {
            "text/plain": [
              "<Figure size 432x288 with 1 Axes>"
            ],
            "image/png": "[encoded data removed]"
          },
          "metadata": {
            "needs_background": "light"
          }
        },
        {
          "output_type": "display_data",
          "data": {
            "text/plain": [
              "<Figure size 432x288 with 0 Axes>"
            ]
          },
          "metadata": {}
        }
      ]
    },
    {
      "cell_type": "markdown",
      "source": [
        "##**Q4. Quais são os grupos de faixa etária dos usuários da amostra, e qual é comportamento desses grupos sobre os indicadores?**"
      ],
      "metadata": {
        "id": "CblOVqQWjyAX"
      }
    },
    {
      "cell_type": "markdown",
      "source": [
        "Para responder essa pergunta de negócio, iremos definir os grupos de faixa etária de acordo com a legislação brasileira, iremos utilizar a coluna de idade, e criaremos a coluna `Faixa_Etaria` com os seguintes critérios:\n",
        "\n",
        "* Para usuários com idade menor ou igual à 12 anos, definimos **Criança**.\n",
        "* Para usuários com idade entre 13 e 18 anos, definimos **Adolescente**.\n",
        "* Para usuários com idade entre 19 e 29 anos, definimos **Jovem**.\n",
        "* Para usuários com idade entre 30 e 59 anos, definimos **Adulto**.\n",
        "* Para usuários com idade maior que 59 anos, definimos **Idoso**."
      ],
      "metadata": {
        "id": "Uda5ET4BlMXA"
      }
    },
    {
      "cell_type": "code",
      "source": [
        "df1_clean.loc[df1_clean['Idade']<=12,'Faixa_Etaria'] = 'Crianca'\n",
        "df1_clean.loc[(df1_clean['Idade']>12)&(df1_clean['Idade']<=18),'Faixa_Etaria'] = 'Adolescente'\n",
        "df1_clean.loc[(df1_clean['Idade']>18)&(df1_clean['Idade']<=29),'Faixa_Etaria'] = 'Jovem'\n",
        "df1_clean.loc[(df1_clean['Idade']>29)&(df1_clean['Idade']<=59),'Faixa_Etaria'] = 'Adulto'\n",
        "df1_clean.loc[df1_clean['Idade']>59,'Faixa_Etaria'] = 'Idoso'"
      ],
      "metadata": {
        "id": "eXQ15-SGcrdy"
      },
      "execution_count": 30,
      "outputs": []
    },
    {
      "cell_type": "markdown",
      "source": [
        "Após a criação da nova coluna, iremos plotar dois gráficos que nos ajudarão nas análises."
      ],
      "metadata": {
        "id": "GLtHKFkDqBfT"
      }
    },
    {
      "cell_type": "code",
      "source": [
        "data = df1_clean.Faixa_Etaria.value_counts().reset_index()\n",
        "data = pd.DataFrame(data)\n",
        "data.columns = ['Faixa','Volume']\n",
        "\n",
        "fig = px.pie(data, values=\"Volume\", names=\"Faixa\",\n",
        "             color_discrete_sequence=px.colors.sequential.RdBu,\n",
        "             opacity=0.7, hole=0.5,width=800, height=400)\n",
        "\n",
        "fig.update_layout(\n",
        "    title={\n",
        "        'text': \"Representação(%) dos Passeios por Grupos \",\n",
        "        'y':0.9,\n",
        "        'x':0.5,\n",
        "        'xanchor': 'center',\n",
        "        'yanchor': 'top'})\n",
        "\n",
        "fig.show()"
      ],
      "metadata": {
        "colab": {
          "base_uri": "https://localhost:8080/",
          "height": 417
        },
        "id": "XMHsdQ2RlEjC",
        "outputId": "bda98753-a818-4048-955f-f5ba2b0600d3"
      },
      "execution_count": 39,
      "outputs": [
        {
          "output_type": "display_data",
          "data": {
            "text/html": [
              "<html>\n",
              "<head><meta charset=\"utf-8\" /></head>\n",
              "<body>\n",
              "    <div>            <script src=\"https://cdnjs.cloudflare.com/ajax/libs/mathjax/2.7.5/MathJax.js?config=TeX-AMS-MML_SVG\"></script><script type=\"text/javascript\">if (window.MathJax) {MathJax.Hub.Config({SVG: {font: \"STIX-Web\"}});}</script>                <script type=\"text/javascript\">window.PlotlyConfig = {MathJaxConfig: 'local'};</script>\n",
              "        <script src=\"https://cdn.plot.ly/plotly-2.8.3.min.js\"></script>                <div id=\"53cfff26-0eaa-461c-b651-9abafeea50ff\" class=\"plotly-graph-div\" style=\"height:400px; width:800px;\"></div>            <script type=\"text/javascript\">                                    window.PLOTLYENV=window.PLOTLYENV || {};                                    if (document.getElementById(\"53cfff26-0eaa-461c-b651-9abafeea50ff\")) {                    Plotly.newPlot(                        \"53cfff26-0eaa-461c-b651-9abafeea50ff\",                        [{\"domain\":{\"x\":[0.0,1.0],\"y\":[0.0,1.0]},\"hole\":0.5,\"hovertemplate\":\"Faixa=%{label}<br>Volume=%{value}<extra></extra>\",\"labels\":[\"Jovem\",\"Adulto\",\"Adolescente\",\"Idoso\",\"Crianca\"],\"legendgroup\":\"\",\"name\":\"\",\"opacity\":0.7,\"showlegend\":true,\"values\":[4843,2933,276,62,17],\"type\":\"pie\"}],                        {\"template\":{\"data\":{\"bar\":[{\"error_x\":{\"color\":\"#2a3f5f\"},\"error_y\":{\"color\":\"#2a3f5f\"},\"marker\":{\"line\":{\"color\":\"#E5ECF6\",\"width\":0.5},\"pattern\":{\"fillmode\":\"overlay\",\"size\":10,\"solidity\":0.2}},\"type\":\"bar\"}],\"barpolar\":[{\"marker\":{\"line\":{\"color\":\"#E5ECF6\",\"width\":0.5},\"pattern\":{\"fillmode\":\"overlay\",\"size\":10,\"solidity\":0.2}},\"type\":\"barpolar\"}],\"carpet\":[{\"aaxis\":{\"endlinecolor\":\"#2a3f5f\",\"gridcolor\":\"white\",\"linecolor\":\"white\",\"minorgridcolor\":\"white\",\"startlinecolor\":\"#2a3f5f\"},\"baxis\":{\"endlinecolor\":\"#2a3f5f\",\"gridcolor\":\"white\",\"linecolor\":\"white\",\"minorgridcolor\":\"white\",\"startlinecolor\":\"#2a3f5f\"},\"type\":\"carpet\"}],\"choropleth\":[{\"colorbar\":{\"outlinewidth\":0,\"ticks\":\"\"},\"type\":\"choropleth\"}],\"contour\":[{\"colorbar\":{\"outlinewidth\":0,\"ticks\":\"\"},\"colorscale\":[[0.0,\"#0d0887\"],[0.1111111111111111,\"#46039f\"],[0.2222222222222222,\"#7201a8\"],[0.3333333333333333,\"#9c179e\"],[0.4444444444444444,\"#bd3786\"],[0.5555555555555556,\"#d8576b\"],[0.6666666666666666,\"#ed7953\"],[0.7777777777777778,\"#fb9f3a\"],[0.8888888888888888,\"#fdca26\"],[1.0,\"#f0f921\"]],\"type\":\"contour\"}],\"contourcarpet\":[{\"colorbar\":{\"outlinewidth\":0,\"ticks\":\"\"},\"type\":\"contourcarpet\"}],\"heatmap\":[{\"colorbar\":{\"outlinewidth\":0,\"ticks\":\"\"},\"colorscale\":[[0.0,\"#0d0887\"],[0.1111111111111111,\"#46039f\"],[0.2222222222222222,\"#7201a8\"],[0.3333333333333333,\"#9c179e\"],[0.4444444444444444,\"#bd3786\"],[0.5555555555555556,\"#d8576b\"],[0.6666666666666666,\"#ed7953\"],[0.7777777777777778,\"#fb9f3a\"],[0.8888888888888888,\"#fdca26\"],[1.0,\"#f0f921\"]],\"type\":\"heatmap\"}],\"heatmapgl\":[{\"colorbar\":{\"outlinewidth\":0,\"ticks\":\"\"},\"colorscale\":[[0.0,\"#0d0887\"],[0.1111111111111111,\"#46039f\"],[0.2222222222222222,\"#7201a8\"],[0.3333333333333333,\"#9c179e\"],[0.4444444444444444,\"#bd3786\"],[0.5555555555555556,\"#d8576b\"],[0.6666666666666666,\"#ed7953\"],[0.7777777777777778,\"#fb9f3a\"],[0.8888888888888888,\"#fdca26\"],[1.0,\"#f0f921\"]],\"type\":\"heatmapgl\"}],\"histogram\":[{\"marker\":{\"pattern\":{\"fillmode\":\"overlay\",\"size\":10,\"solidity\":0.2}},\"type\":\"histogram\"}],\"histogram2d\":[{\"colorbar\":{\"outlinewidth\":0,\"ticks\":\"\"},\"colorscale\":[[0.0,\"#0d0887\"],[0.1111111111111111,\"#46039f\"],[0.2222222222222222,\"#7201a8\"],[0.3333333333333333,\"#9c179e\"],[0.4444444444444444,\"#bd3786\"],[0.5555555555555556,\"#d8576b\"],[0.6666666666666666,\"#ed7953\"],[0.7777777777777778,\"#fb9f3a\"],[0.8888888888888888,\"#fdca26\"],[1.0,\"#f0f921\"]],\"type\":\"histogram2d\"}],\"histogram2dcontour\":[{\"colorbar\":{\"outlinewidth\":0,\"ticks\":\"\"},\"colorscale\":[[0.0,\"#0d0887\"],[0.1111111111111111,\"#46039f\"],[0.2222222222222222,\"#7201a8\"],[0.3333333333333333,\"#9c179e\"],[0.4444444444444444,\"#bd3786\"],[0.5555555555555556,\"#d8576b\"],[0.6666666666666666,\"#ed7953\"],[0.7777777777777778,\"#fb9f3a\"],[0.8888888888888888,\"#fdca26\"],[1.0,\"#f0f921\"]],\"type\":\"histogram2dcontour\"}],\"mesh3d\":[{\"colorbar\":{\"outlinewidth\":0,\"ticks\":\"\"},\"type\":\"mesh3d\"}],\"parcoords\":[{\"line\":{\"colorbar\":{\"outlinewidth\":0,\"ticks\":\"\"}},\"type\":\"parcoords\"}],\"pie\":[{\"automargin\":true,\"type\":\"pie\"}],\"scatter\":[{\"marker\":{\"colorbar\":{\"outlinewidth\":0,\"ticks\":\"\"}},\"type\":\"scatter\"}],\"scatter3d\":[{\"line\":{\"colorbar\":{\"outlinewidth\":0,\"ticks\":\"\"}},\"marker\":{\"colorbar\":{\"outlinewidth\":0,\"ticks\":\"\"}},\"type\":\"scatter3d\"}],\"scattercarpet\":[{\"marker\":{\"colorbar\":{\"outlinewidth\":0,\"ticks\":\"\"}},\"type\":\"scattercarpet\"}],\"scattergeo\":[{\"marker\":{\"colorbar\":{\"outlinewidth\":0,\"ticks\":\"\"}},\"type\":\"scattergeo\"}],\"scattergl\":[{\"marker\":{\"colorbar\":{\"outlinewidth\":0,\"ticks\":\"\"}},\"type\":\"scattergl\"}],\"scattermapbox\":[{\"marker\":{\"colorbar\":{\"outlinewidth\":0,\"ticks\":\"\"}},\"type\":\"scattermapbox\"}],\"scatterpolar\":[{\"marker\":{\"colorbar\":{\"outlinewidth\":0,\"ticks\":\"\"}},\"type\":\"scatterpolar\"}],\"scatterpolargl\":[{\"marker\":{\"colorbar\":{\"outlinewidth\":0,\"ticks\":\"\"}},\"type\":\"scatterpolargl\"}],\"scatterternary\":[{\"marker\":{\"colorbar\":{\"outlinewidth\":0,\"ticks\":\"\"}},\"type\":\"scatterternary\"}],\"surface\":[{\"colorbar\":{\"outlinewidth\":0,\"ticks\":\"\"},\"colorscale\":[[0.0,\"#0d0887\"],[0.1111111111111111,\"#46039f\"],[0.2222222222222222,\"#7201a8\"],[0.3333333333333333,\"#9c179e\"],[0.4444444444444444,\"#bd3786\"],[0.5555555555555556,\"#d8576b\"],[0.6666666666666666,\"#ed7953\"],[0.7777777777777778,\"#fb9f3a\"],[0.8888888888888888,\"#fdca26\"],[1.0,\"#f0f921\"]],\"type\":\"surface\"}],\"table\":[{\"cells\":{\"fill\":{\"color\":\"#EBF0F8\"},\"line\":{\"color\":\"white\"}},\"header\":{\"fill\":{\"color\":\"#C8D4E3\"},\"line\":{\"color\":\"white\"}},\"type\":\"table\"}]},\"layout\":{\"annotationdefaults\":{\"arrowcolor\":\"#2a3f5f\",\"arrowhead\":0,\"arrowwidth\":1},\"autotypenumbers\":\"strict\",\"coloraxis\":{\"colorbar\":{\"outlinewidth\":0,\"ticks\":\"\"}},\"colorscale\":{\"diverging\":[[0,\"#8e0152\"],[0.1,\"#c51b7d\"],[0.2,\"#de77ae\"],[0.3,\"#f1b6da\"],[0.4,\"#fde0ef\"],[0.5,\"#f7f7f7\"],[0.6,\"#e6f5d0\"],[0.7,\"#b8e186\"],[0.8,\"#7fbc41\"],[0.9,\"#4d9221\"],[1,\"#276419\"]],\"sequential\":[[0.0,\"#0d0887\"],[0.1111111111111111,\"#46039f\"],[0.2222222222222222,\"#7201a8\"],[0.3333333333333333,\"#9c179e\"],[0.4444444444444444,\"#bd3786\"],[0.5555555555555556,\"#d8576b\"],[0.6666666666666666,\"#ed7953\"],[0.7777777777777778,\"#fb9f3a\"],[0.8888888888888888,\"#fdca26\"],[1.0,\"#f0f921\"]],\"sequentialminus\":[[0.0,\"#0d0887\"],[0.1111111111111111,\"#46039f\"],[0.2222222222222222,\"#7201a8\"],[0.3333333333333333,\"#9c179e\"],[0.4444444444444444,\"#bd3786\"],[0.5555555555555556,\"#d8576b\"],[0.6666666666666666,\"#ed7953\"],[0.7777777777777778,\"#fb9f3a\"],[0.8888888888888888,\"#fdca26\"],[1.0,\"#f0f921\"]]},\"colorway\":[\"#636efa\",\"#EF553B\",\"#00cc96\",\"#ab63fa\",\"#FFA15A\",\"#19d3f3\",\"#FF6692\",\"#B6E880\",\"#FF97FF\",\"#FECB52\"],\"font\":{\"color\":\"#2a3f5f\"},\"geo\":{\"bgcolor\":\"white\",\"lakecolor\":\"white\",\"landcolor\":\"#E5ECF6\",\"showlakes\":true,\"showland\":true,\"subunitcolor\":\"white\"},\"hoverlabel\":{\"align\":\"left\"},\"hovermode\":\"closest\",\"mapbox\":{\"style\":\"light\"},\"paper_bgcolor\":\"white\",\"plot_bgcolor\":\"#E5ECF6\",\"polar\":{\"angularaxis\":{\"gridcolor\":\"white\",\"linecolor\":\"white\",\"ticks\":\"\"},\"bgcolor\":\"#E5ECF6\",\"radialaxis\":{\"gridcolor\":\"white\",\"linecolor\":\"white\",\"ticks\":\"\"}},\"scene\":{\"xaxis\":{\"backgroundcolor\":\"#E5ECF6\",\"gridcolor\":\"white\",\"gridwidth\":2,\"linecolor\":\"white\",\"showbackground\":true,\"ticks\":\"\",\"zerolinecolor\":\"white\"},\"yaxis\":{\"backgroundcolor\":\"#E5ECF6\",\"gridcolor\":\"white\",\"gridwidth\":2,\"linecolor\":\"white\",\"showbackground\":true,\"ticks\":\"\",\"zerolinecolor\":\"white\"},\"zaxis\":{\"backgroundcolor\":\"#E5ECF6\",\"gridcolor\":\"white\",\"gridwidth\":2,\"linecolor\":\"white\",\"showbackground\":true,\"ticks\":\"\",\"zerolinecolor\":\"white\"}},\"shapedefaults\":{\"line\":{\"color\":\"#2a3f5f\"}},\"ternary\":{\"aaxis\":{\"gridcolor\":\"white\",\"linecolor\":\"white\",\"ticks\":\"\"},\"baxis\":{\"gridcolor\":\"white\",\"linecolor\":\"white\",\"ticks\":\"\"},\"bgcolor\":\"#E5ECF6\",\"caxis\":{\"gridcolor\":\"white\",\"linecolor\":\"white\",\"ticks\":\"\"}},\"title\":{\"x\":0.05},\"xaxis\":{\"automargin\":true,\"gridcolor\":\"white\",\"linecolor\":\"white\",\"ticks\":\"\",\"title\":{\"standoff\":15},\"zerolinecolor\":\"white\",\"zerolinewidth\":2},\"yaxis\":{\"automargin\":true,\"gridcolor\":\"white\",\"linecolor\":\"white\",\"ticks\":\"\",\"title\":{\"standoff\":15},\"zerolinecolor\":\"white\",\"zerolinewidth\":2}}},\"legend\":{\"tracegroupgap\":0},\"margin\":{\"t\":60},\"piecolorway\":[\"rgb(103,0,31)\",\"rgb(178,24,43)\",\"rgb(214,96,77)\",\"rgb(244,165,130)\",\"rgb(253,219,199)\",\"rgb(247,247,247)\",\"rgb(209,229,240)\",\"rgb(146,197,222)\",\"rgb(67,147,195)\",\"rgb(33,102,172)\",\"rgb(5,48,97)\"],\"height\":400,\"width\":800,\"title\":{\"text\":\"Representa\\u00e7\\u00e3o(%) dos Passeios por Grupos \",\"y\":0.9,\"x\":0.5,\"xanchor\":\"center\",\"yanchor\":\"top\"}},                        {\"responsive\": true}                    ).then(function(){\n",
              "                            \n",
              "var gd = document.getElementById('53cfff26-0eaa-461c-b651-9abafeea50ff');\n",
              "var x = new MutationObserver(function (mutations, observer) {{\n",
              "        var display = window.getComputedStyle(gd).display;\n",
              "        if (!display || display === 'none') {{\n",
              "            console.log([gd, 'removed!']);\n",
              "            Plotly.purge(gd);\n",
              "            observer.disconnect();\n",
              "        }}\n",
              "}});\n",
              "\n",
              "// Listen for the removal of the full notebook cells\n",
              "var notebookContainer = gd.closest('#notebook-container');\n",
              "if (notebookContainer) {{\n",
              "    x.observe(notebookContainer, {childList: true});\n",
              "}}\n",
              "\n",
              "// Listen for the clearing of the current output cell\n",
              "var outputEl = gd.closest('.output');\n",
              "if (outputEl) {{\n",
              "    x.observe(outputEl, {childList: true});\n",
              "}}\n",
              "\n",
              "                        })                };                            </script>        </div>\n",
              "</body>\n",
              "</html>"
            ]
          },
          "metadata": {}
        }
      ]
    },
    {
      "cell_type": "code",
      "source": [
        "data = df1_clean[['Faixa_Etaria','Duracao_Passeio']].groupby(['Faixa_Etaria']).mean().sort_values('Duracao_Passeio',ascending=False).reset_index()\n",
        "\n",
        "fig = px.pie(data, values=\"Duracao_Passeio\", names=\"Faixa_Etaria\",\n",
        "             color_discrete_sequence=px.colors.sequential.RdBu,\n",
        "             opacity=0.7, hole=0.5,width=800, height=400)\n",
        "\n",
        "fig.update_layout(\n",
        "    title={\n",
        "        'text': \"Representação(%) de Duração de Passeios por Grupos\",\n",
        "        'y':0.9,\n",
        "        'x':0.5,\n",
        "        'xanchor': 'center',\n",
        "        'yanchor': 'top'})\n",
        "\n",
        "\n",
        "fig.show()\n",
        "print(data)"
      ],
      "metadata": {
        "colab": {
          "base_uri": "https://localhost:8080/",
          "height": 528
        },
        "outputId": "142e957d-f1f1-48d8-916a-2b104b286085",
        "id": "g83ahVfzpLRQ"
      },
      "execution_count": 40,
      "outputs": [
        {
          "output_type": "display_data",
          "data": {
            "text/html": [
              "<html>\n",
              "<head><meta charset=\"utf-8\" /></head>\n",
              "<body>\n",
              "    <div>            <script src=\"https://cdnjs.cloudflare.com/ajax/libs/mathjax/2.7.5/MathJax.js?config=TeX-AMS-MML_SVG\"></script><script type=\"text/javascript\">if (window.MathJax) {MathJax.Hub.Config({SVG: {font: \"STIX-Web\"}});}</script>                <script type=\"text/javascript\">window.PlotlyConfig = {MathJaxConfig: 'local'};</script>\n",
              "        <script src=\"https://cdn.plot.ly/plotly-2.8.3.min.js\"></script>                <div id=\"9abb15b7-bbd8-4212-8f28-05d54fef518d\" class=\"plotly-graph-div\" style=\"height:400px; width:800px;\"></div>            <script type=\"text/javascript\">                                    window.PLOTLYENV=window.PLOTLYENV || {};                                    if (document.getElementById(\"9abb15b7-bbd8-4212-8f28-05d54fef518d\")) {                    Plotly.newPlot(                        \"9abb15b7-bbd8-4212-8f28-05d54fef518d\",                        [{\"domain\":{\"x\":[0.0,1.0],\"y\":[0.0,1.0]},\"hole\":0.5,\"hovertemplate\":\"Faixa_Etaria=%{label}<br>Duracao_Passeio=%{value}<extra></extra>\",\"labels\":[\"Crianca\",\"Idoso\",\"Adulto\",\"Adolescente\",\"Jovem\"],\"legendgroup\":\"\",\"name\":\"\",\"opacity\":0.7,\"showlegend\":true,\"values\":[21.359803921568627,16.552419354838708,15.124576656438231,14.765519323671498,14.747033519168559],\"type\":\"pie\"}],                        {\"template\":{\"data\":{\"bar\":[{\"error_x\":{\"color\":\"#2a3f5f\"},\"error_y\":{\"color\":\"#2a3f5f\"},\"marker\":{\"line\":{\"color\":\"#E5ECF6\",\"width\":0.5},\"pattern\":{\"fillmode\":\"overlay\",\"size\":10,\"solidity\":0.2}},\"type\":\"bar\"}],\"barpolar\":[{\"marker\":{\"line\":{\"color\":\"#E5ECF6\",\"width\":0.5},\"pattern\":{\"fillmode\":\"overlay\",\"size\":10,\"solidity\":0.2}},\"type\":\"barpolar\"}],\"carpet\":[{\"aaxis\":{\"endlinecolor\":\"#2a3f5f\",\"gridcolor\":\"white\",\"linecolor\":\"white\",\"minorgridcolor\":\"white\",\"startlinecolor\":\"#2a3f5f\"},\"baxis\":{\"endlinecolor\":\"#2a3f5f\",\"gridcolor\":\"white\",\"linecolor\":\"white\",\"minorgridcolor\":\"white\",\"startlinecolor\":\"#2a3f5f\"},\"type\":\"carpet\"}],\"choropleth\":[{\"colorbar\":{\"outlinewidth\":0,\"ticks\":\"\"},\"type\":\"choropleth\"}],\"contour\":[{\"colorbar\":{\"outlinewidth\":0,\"ticks\":\"\"},\"colorscale\":[[0.0,\"#0d0887\"],[0.1111111111111111,\"#46039f\"],[0.2222222222222222,\"#7201a8\"],[0.3333333333333333,\"#9c179e\"],[0.4444444444444444,\"#bd3786\"],[0.5555555555555556,\"#d8576b\"],[0.6666666666666666,\"#ed7953\"],[0.7777777777777778,\"#fb9f3a\"],[0.8888888888888888,\"#fdca26\"],[1.0,\"#f0f921\"]],\"type\":\"contour\"}],\"contourcarpet\":[{\"colorbar\":{\"outlinewidth\":0,\"ticks\":\"\"},\"type\":\"contourcarpet\"}],\"heatmap\":[{\"colorbar\":{\"outlinewidth\":0,\"ticks\":\"\"},\"colorscale\":[[0.0,\"#0d0887\"],[0.1111111111111111,\"#46039f\"],[0.2222222222222222,\"#7201a8\"],[0.3333333333333333,\"#9c179e\"],[0.4444444444444444,\"#bd3786\"],[0.5555555555555556,\"#d8576b\"],[0.6666666666666666,\"#ed7953\"],[0.7777777777777778,\"#fb9f3a\"],[0.8888888888888888,\"#fdca26\"],[1.0,\"#f0f921\"]],\"type\":\"heatmap\"}],\"heatmapgl\":[{\"colorbar\":{\"outlinewidth\":0,\"ticks\":\"\"},\"colorscale\":[[0.0,\"#0d0887\"],[0.1111111111111111,\"#46039f\"],[0.2222222222222222,\"#7201a8\"],[0.3333333333333333,\"#9c179e\"],[0.4444444444444444,\"#bd3786\"],[0.5555555555555556,\"#d8576b\"],[0.6666666666666666,\"#ed7953\"],[0.7777777777777778,\"#fb9f3a\"],[0.8888888888888888,\"#fdca26\"],[1.0,\"#f0f921\"]],\"type\":\"heatmapgl\"}],\"histogram\":[{\"marker\":{\"pattern\":{\"fillmode\":\"overlay\",\"size\":10,\"solidity\":0.2}},\"type\":\"histogram\"}],\"histogram2d\":[{\"colorbar\":{\"outlinewidth\":0,\"ticks\":\"\"},\"colorscale\":[[0.0,\"#0d0887\"],[0.1111111111111111,\"#46039f\"],[0.2222222222222222,\"#7201a8\"],[0.3333333333333333,\"#9c179e\"],[0.4444444444444444,\"#bd3786\"],[0.5555555555555556,\"#d8576b\"],[0.6666666666666666,\"#ed7953\"],[0.7777777777777778,\"#fb9f3a\"],[0.8888888888888888,\"#fdca26\"],[1.0,\"#f0f921\"]],\"type\":\"histogram2d\"}],\"histogram2dcontour\":[{\"colorbar\":{\"outlinewidth\":0,\"ticks\":\"\"},\"colorscale\":[[0.0,\"#0d0887\"],[0.1111111111111111,\"#46039f\"],[0.2222222222222222,\"#7201a8\"],[0.3333333333333333,\"#9c179e\"],[0.4444444444444444,\"#bd3786\"],[0.5555555555555556,\"#d8576b\"],[0.6666666666666666,\"#ed7953\"],[0.7777777777777778,\"#fb9f3a\"],[0.8888888888888888,\"#fdca26\"],[1.0,\"#f0f921\"]],\"type\":\"histogram2dcontour\"}],\"mesh3d\":[{\"colorbar\":{\"outlinewidth\":0,\"ticks\":\"\"},\"type\":\"mesh3d\"}],\"parcoords\":[{\"line\":{\"colorbar\":{\"outlinewidth\":0,\"ticks\":\"\"}},\"type\":\"parcoords\"}],\"pie\":[{\"automargin\":true,\"type\":\"pie\"}],\"scatter\":[{\"marker\":{\"colorbar\":{\"outlinewidth\":0,\"ticks\":\"\"}},\"type\":\"scatter\"}],\"scatter3d\":[{\"line\":{\"colorbar\":{\"outlinewidth\":0,\"ticks\":\"\"}},\"marker\":{\"colorbar\":{\"outlinewidth\":0,\"ticks\":\"\"}},\"type\":\"scatter3d\"}],\"scattercarpet\":[{\"marker\":{\"colorbar\":{\"outlinewidth\":0,\"ticks\":\"\"}},\"type\":\"scattercarpet\"}],\"scattergeo\":[{\"marker\":{\"colorbar\":{\"outlinewidth\":0,\"ticks\":\"\"}},\"type\":\"scattergeo\"}],\"scattergl\":[{\"marker\":{\"colorbar\":{\"outlinewidth\":0,\"ticks\":\"\"}},\"type\":\"scattergl\"}],\"scattermapbox\":[{\"marker\":{\"colorbar\":{\"outlinewidth\":0,\"ticks\":\"\"}},\"type\":\"scattermapbox\"}],\"scatterpolar\":[{\"marker\":{\"colorbar\":{\"outlinewidth\":0,\"ticks\":\"\"}},\"type\":\"scatterpolar\"}],\"scatterpolargl\":[{\"marker\":{\"colorbar\":{\"outlinewidth\":0,\"ticks\":\"\"}},\"type\":\"scatterpolargl\"}],\"scatterternary\":[{\"marker\":{\"colorbar\":{\"outlinewidth\":0,\"ticks\":\"\"}},\"type\":\"scatterternary\"}],\"surface\":[{\"colorbar\":{\"outlinewidth\":0,\"ticks\":\"\"},\"colorscale\":[[0.0,\"#0d0887\"],[0.1111111111111111,\"#46039f\"],[0.2222222222222222,\"#7201a8\"],[0.3333333333333333,\"#9c179e\"],[0.4444444444444444,\"#bd3786\"],[0.5555555555555556,\"#d8576b\"],[0.6666666666666666,\"#ed7953\"],[0.7777777777777778,\"#fb9f3a\"],[0.8888888888888888,\"#fdca26\"],[1.0,\"#f0f921\"]],\"type\":\"surface\"}],\"table\":[{\"cells\":{\"fill\":{\"color\":\"#EBF0F8\"},\"line\":{\"color\":\"white\"}},\"header\":{\"fill\":{\"color\":\"#C8D4E3\"},\"line\":{\"color\":\"white\"}},\"type\":\"table\"}]},\"layout\":{\"annotationdefaults\":{\"arrowcolor\":\"#2a3f5f\",\"arrowhead\":0,\"arrowwidth\":1},\"autotypenumbers\":\"strict\",\"coloraxis\":{\"colorbar\":{\"outlinewidth\":0,\"ticks\":\"\"}},\"colorscale\":{\"diverging\":[[0,\"#8e0152\"],[0.1,\"#c51b7d\"],[0.2,\"#de77ae\"],[0.3,\"#f1b6da\"],[0.4,\"#fde0ef\"],[0.5,\"#f7f7f7\"],[0.6,\"#e6f5d0\"],[0.7,\"#b8e186\"],[0.8,\"#7fbc41\"],[0.9,\"#4d9221\"],[1,\"#276419\"]],\"sequential\":[[0.0,\"#0d0887\"],[0.1111111111111111,\"#46039f\"],[0.2222222222222222,\"#7201a8\"],[0.3333333333333333,\"#9c179e\"],[0.4444444444444444,\"#bd3786\"],[0.5555555555555556,\"#d8576b\"],[0.6666666666666666,\"#ed7953\"],[0.7777777777777778,\"#fb9f3a\"],[0.8888888888888888,\"#fdca26\"],[1.0,\"#f0f921\"]],\"sequentialminus\":[[0.0,\"#0d0887\"],[0.1111111111111111,\"#46039f\"],[0.2222222222222222,\"#7201a8\"],[0.3333333333333333,\"#9c179e\"],[0.4444444444444444,\"#bd3786\"],[0.5555555555555556,\"#d8576b\"],[0.6666666666666666,\"#ed7953\"],[0.7777777777777778,\"#fb9f3a\"],[0.8888888888888888,\"#fdca26\"],[1.0,\"#f0f921\"]]},\"colorway\":[\"#636efa\",\"#EF553B\",\"#00cc96\",\"#ab63fa\",\"#FFA15A\",\"#19d3f3\",\"#FF6692\",\"#B6E880\",\"#FF97FF\",\"#FECB52\"],\"font\":{\"color\":\"#2a3f5f\"},\"geo\":{\"bgcolor\":\"white\",\"lakecolor\":\"white\",\"landcolor\":\"#E5ECF6\",\"showlakes\":true,\"showland\":true,\"subunitcolor\":\"white\"},\"hoverlabel\":{\"align\":\"left\"},\"hovermode\":\"closest\",\"mapbox\":{\"style\":\"light\"},\"paper_bgcolor\":\"white\",\"plot_bgcolor\":\"#E5ECF6\",\"polar\":{\"angularaxis\":{\"gridcolor\":\"white\",\"linecolor\":\"white\",\"ticks\":\"\"},\"bgcolor\":\"#E5ECF6\",\"radialaxis\":{\"gridcolor\":\"white\",\"linecolor\":\"white\",\"ticks\":\"\"}},\"scene\":{\"xaxis\":{\"backgroundcolor\":\"#E5ECF6\",\"gridcolor\":\"white\",\"gridwidth\":2,\"linecolor\":\"white\",\"showbackground\":true,\"ticks\":\"\",\"zerolinecolor\":\"white\"},\"yaxis\":{\"backgroundcolor\":\"#E5ECF6\",\"gridcolor\":\"white\",\"gridwidth\":2,\"linecolor\":\"white\",\"showbackground\":true,\"ticks\":\"\",\"zerolinecolor\":\"white\"},\"zaxis\":{\"backgroundcolor\":\"#E5ECF6\",\"gridcolor\":\"white\",\"gridwidth\":2,\"linecolor\":\"white\",\"showbackground\":true,\"ticks\":\"\",\"zerolinecolor\":\"white\"}},\"shapedefaults\":{\"line\":{\"color\":\"#2a3f5f\"}},\"ternary\":{\"aaxis\":{\"gridcolor\":\"white\",\"linecolor\":\"white\",\"ticks\":\"\"},\"baxis\":{\"gridcolor\":\"white\",\"linecolor\":\"white\",\"ticks\":\"\"},\"bgcolor\":\"#E5ECF6\",\"caxis\":{\"gridcolor\":\"white\",\"linecolor\":\"white\",\"ticks\":\"\"}},\"title\":{\"x\":0.05},\"xaxis\":{\"automargin\":true,\"gridcolor\":\"white\",\"linecolor\":\"white\",\"ticks\":\"\",\"title\":{\"standoff\":15},\"zerolinecolor\":\"white\",\"zerolinewidth\":2},\"yaxis\":{\"automargin\":true,\"gridcolor\":\"white\",\"linecolor\":\"white\",\"ticks\":\"\",\"title\":{\"standoff\":15},\"zerolinecolor\":\"white\",\"zerolinewidth\":2}}},\"legend\":{\"tracegroupgap\":0},\"margin\":{\"t\":60},\"piecolorway\":[\"rgb(103,0,31)\",\"rgb(178,24,43)\",\"rgb(214,96,77)\",\"rgb(244,165,130)\",\"rgb(253,219,199)\",\"rgb(247,247,247)\",\"rgb(209,229,240)\",\"rgb(146,197,222)\",\"rgb(67,147,195)\",\"rgb(33,102,172)\",\"rgb(5,48,97)\"],\"height\":400,\"width\":800,\"title\":{\"text\":\"Representa\\u00e7\\u00e3o(%) de Dura\\u00e7\\u00e3o de Passeios por Grupos\",\"y\":0.9,\"x\":0.5,\"xanchor\":\"center\",\"yanchor\":\"top\"}},                        {\"responsive\": true}                    ).then(function(){\n",
              "                            \n",
              "var gd = document.getElementById('9abb15b7-bbd8-4212-8f28-05d54fef518d');\n",
              "var x = new MutationObserver(function (mutations, observer) {{\n",
              "        var display = window.getComputedStyle(gd).display;\n",
              "        if (!display || display === 'none') {{\n",
              "            console.log([gd, 'removed!']);\n",
              "            Plotly.purge(gd);\n",
              "            observer.disconnect();\n",
              "        }}\n",
              "}});\n",
              "\n",
              "// Listen for the removal of the full notebook cells\n",
              "var notebookContainer = gd.closest('#notebook-container');\n",
              "if (notebookContainer) {{\n",
              "    x.observe(notebookContainer, {childList: true});\n",
              "}}\n",
              "\n",
              "// Listen for the clearing of the current output cell\n",
              "var outputEl = gd.closest('.output');\n",
              "if (outputEl) {{\n",
              "    x.observe(outputEl, {childList: true});\n",
              "}}\n",
              "\n",
              "                        })                };                            </script>        </div>\n",
              "</body>\n",
              "</html>"
            ]
          },
          "metadata": {}
        },
        {
          "output_type": "stream",
          "name": "stdout",
          "text": [
            "  Faixa_Etaria  Duracao_Passeio\n",
            "0      Crianca        21.359804\n",
            "1        Idoso        16.552419\n",
            "2       Adulto        15.124577\n",
            "3  Adolescente        14.765519\n",
            "4        Jovem        14.747034\n"
          ]
        }
      ]
    },
    {
      "cell_type": "markdown",
      "source": [
        "**Q4** **R:** A partir dos gráficos é possivel concluir que o grupo mais presente na amostra é o **Jovem**, ocupando aproximadamente **69%** em volumes de passeios. No entanto o grupo que utilizam as bikes por mais tempo nas rotas é público **Criança** tendo em média **21 minutos** de passeio."
      ],
      "metadata": {
        "id": "7_Cbph9Ms_cd"
      }
    },
    {
      "cell_type": "markdown",
      "source": [
        "###**Q5. Em quais dias os usuários mais utilizam as bikes, e quais são os horários de maior movimento?**"
      ],
      "metadata": {
        "id": "gf0LMaGuWwbf"
      }
    },
    {
      "cell_type": "markdown",
      "source": [
        "Para repondermos essa pergunta de negócio, iremos criar uma nova coluna chamada `Hora`, que será a parte de hora(HH) extraída a partir da coluna `Hora_Inicio`.\n",
        "E assim, plotar dois gráficos abaixo que nos ajudarão nas análises.\n"
      ],
      "metadata": {
        "id": "bl7wG_K5q6pW"
      }
    },
    {
      "cell_type": "code",
      "source": [
        "df1_clean['Hora_Inicio'] = pd.to_datetime(df1_clean['Hora_Inicio'],format = \"%H:%M:%S\").dt.time\n",
        "\n",
        "import time\n",
        "Hora = []\n",
        "for i in df1_clean['Hora_Inicio']:\n",
        "  Hora.append(i.strftime('%H'))\n",
        "\n",
        "df1_clean['Hora'] = Hora"
      ],
      "metadata": {
        "id": "W8ElRS8nmuda"
      },
      "execution_count": 33,
      "outputs": []
    },
    {
      "cell_type": "code",
      "source": [
        "data = df1_clean.Dia.value_counts().reset_index()\n",
        "data = pd.DataFrame(data)\n",
        "data.columns = ['Dia','Volume']\n",
        "data.set_index('Dia',inplace = True)\n",
        "\n",
        "data1 = df1_clean.Hora.value_counts().reset_index()\n",
        "data1 = pd.DataFrame(data1)\n",
        "data1.columns = ['Hora','Volume']\n",
        "#data1.set_index('Hora',inplace = True) \n",
        "\n",
        "fig, ax = plt.subplots()\n",
        "ax.set_title(\"Volume de Passeios Por Dia\")\n",
        "ax.set_ylabel(\"Passeios\")\n",
        "ax.axvspan(xmin=-1, xmax=0.5, ymin=0, ymax=2, color='#d9d9d9', alpha=0.5)\n",
        "data.plot(kind=\"bar\",ax=ax,color= 'Green',figsize=(10,5))\n",
        "\n",
        "fig = go.Figure()\n",
        "\n",
        "fig.add_trace(go.Scatter(x=data1['Hora'], y=data1['Volume'], fill='tonexty',fillcolor='green',mode= 'none'))\n",
        "#fig = px.area(data1,x='Hora', y='Volume',width = 700, height = 500, title = \"Volume de Passeios por Hora\")\n",
        "fig.update_layout(\n",
        "    title={\n",
        "        'text': \"Volume de Passeios por Hora\",\n",
        "        'y':0.9,\n",
        "        'x':0.5,\n",
        "        'xanchor': 'center',\n",
        "        'yanchor': 'top'})\n",
        "plt.show()\n",
        "fig.show()\n",
        "plt.tight_layout()\n"
      ],
      "metadata": {
        "colab": {
          "base_uri": "https://localhost:8080/",
          "height": 928
        },
        "id": "3ZBOR468YFTL",
        "outputId": "e02c3c53-da5d-490c-bcd0-84e90d816172"
      },
      "execution_count": 34,
      "outputs": [
        {
          "output_type": "display_data",
          "data": {
            "text/plain": [
              "<Figure size 720x360 with 1 Axes>"
            ],
            "image/png": "[encoded data removed]"
          },
          "metadata": {
            "needs_background": "light"
          }
        },
        {
          "output_type": "display_data",
          "data": {
            "text/html": [
              "<html>\n",
              "<head><meta charset=\"utf-8\" /></head>\n",
              "<body>\n",
              "    <div>            <script src=\"https://cdnjs.cloudflare.com/ajax/libs/mathjax/2.7.5/MathJax.js?config=TeX-AMS-MML_SVG\"></script><script type=\"text/javascript\">if (window.MathJax) {MathJax.Hub.Config({SVG: {font: \"STIX-Web\"}});}</script>                <script type=\"text/javascript\">window.PlotlyConfig = {MathJaxConfig: 'local'};</script>\n",
              "        <script src=\"https://cdn.plot.ly/plotly-2.8.3.min.js\"></script>                <div id=\"3972d5df-4e20-4d4f-a284-a9653c5c7a8f\" class=\"plotly-graph-div\" style=\"height:525px; width:100%;\"></div>            <script type=\"text/javascript\">                                    window.PLOTLYENV=window.PLOTLYENV || {};                                    if (document.getElementById(\"3972d5df-4e20-4d4f-a284-a9653c5c7a8f\")) {                    Plotly.newPlot(                        \"3972d5df-4e20-4d4f-a284-a9653c5c7a8f\",                        [{\"fill\":\"tonexty\",\"fillcolor\":\"green\",\"mode\":\"none\",\"x\":[\"18\",\"17\",\"12\",\"13\",\"16\",\"14\",\"11\",\"15\",\"19\",\"08\",\"07\",\"09\",\"10\",\"06\",\"20\",\"21\",\"22\",\"23\",\"05\",\"00\"],\"y\":[870,748,709,703,605,538,530,498,474,426,412,388,343,256,256,158,148,58,9,2],\"type\":\"scatter\"}],                        {\"template\":{\"data\":{\"bar\":[{\"error_x\":{\"color\":\"#2a3f5f\"},\"error_y\":{\"color\":\"#2a3f5f\"},\"marker\":{\"line\":{\"color\":\"#E5ECF6\",\"width\":0.5},\"pattern\":{\"fillmode\":\"overlay\",\"size\":10,\"solidity\":0.2}},\"type\":\"bar\"}],\"barpolar\":[{\"marker\":{\"line\":{\"color\":\"#E5ECF6\",\"width\":0.5},\"pattern\":{\"fillmode\":\"overlay\",\"size\":10,\"solidity\":0.2}},\"type\":\"barpolar\"}],\"carpet\":[{\"aaxis\":{\"endlinecolor\":\"#2a3f5f\",\"gridcolor\":\"white\",\"linecolor\":\"white\",\"minorgridcolor\":\"white\",\"startlinecolor\":\"#2a3f5f\"},\"baxis\":{\"endlinecolor\":\"#2a3f5f\",\"gridcolor\":\"white\",\"linecolor\":\"white\",\"minorgridcolor\":\"white\",\"startlinecolor\":\"#2a3f5f\"},\"type\":\"carpet\"}],\"choropleth\":[{\"colorbar\":{\"outlinewidth\":0,\"ticks\":\"\"},\"type\":\"choropleth\"}],\"contour\":[{\"colorbar\":{\"outlinewidth\":0,\"ticks\":\"\"},\"colorscale\":[[0.0,\"#0d0887\"],[0.1111111111111111,\"#46039f\"],[0.2222222222222222,\"#7201a8\"],[0.3333333333333333,\"#9c179e\"],[0.4444444444444444,\"#bd3786\"],[0.5555555555555556,\"#d8576b\"],[0.6666666666666666,\"#ed7953\"],[0.7777777777777778,\"#fb9f3a\"],[0.8888888888888888,\"#fdca26\"],[1.0,\"#f0f921\"]],\"type\":\"contour\"}],\"contourcarpet\":[{\"colorbar\":{\"outlinewidth\":0,\"ticks\":\"\"},\"type\":\"contourcarpet\"}],\"heatmap\":[{\"colorbar\":{\"outlinewidth\":0,\"ticks\":\"\"},\"colorscale\":[[0.0,\"#0d0887\"],[0.1111111111111111,\"#46039f\"],[0.2222222222222222,\"#7201a8\"],[0.3333333333333333,\"#9c179e\"],[0.4444444444444444,\"#bd3786\"],[0.5555555555555556,\"#d8576b\"],[0.6666666666666666,\"#ed7953\"],[0.7777777777777778,\"#fb9f3a\"],[0.8888888888888888,\"#fdca26\"],[1.0,\"#f0f921\"]],\"type\":\"heatmap\"}],\"heatmapgl\":[{\"colorbar\":{\"outlinewidth\":0,\"ticks\":\"\"},\"colorscale\":[[0.0,\"#0d0887\"],[0.1111111111111111,\"#46039f\"],[0.2222222222222222,\"#7201a8\"],[0.3333333333333333,\"#9c179e\"],[0.4444444444444444,\"#bd3786\"],[0.5555555555555556,\"#d8576b\"],[0.6666666666666666,\"#ed7953\"],[0.7777777777777778,\"#fb9f3a\"],[0.8888888888888888,\"#fdca26\"],[1.0,\"#f0f921\"]],\"type\":\"heatmapgl\"}],\"histogram\":[{\"marker\":{\"pattern\":{\"fillmode\":\"overlay\",\"size\":10,\"solidity\":0.2}},\"type\":\"histogram\"}],\"histogram2d\":[{\"colorbar\":{\"outlinewidth\":0,\"ticks\":\"\"},\"colorscale\":[[0.0,\"#0d0887\"],[0.1111111111111111,\"#46039f\"],[0.2222222222222222,\"#7201a8\"],[0.3333333333333333,\"#9c179e\"],[0.4444444444444444,\"#bd3786\"],[0.5555555555555556,\"#d8576b\"],[0.6666666666666666,\"#ed7953\"],[0.7777777777777778,\"#fb9f3a\"],[0.8888888888888888,\"#fdca26\"],[1.0,\"#f0f921\"]],\"type\":\"histogram2d\"}],\"histogram2dcontour\":[{\"colorbar\":{\"outlinewidth\":0,\"ticks\":\"\"},\"colorscale\":[[0.0,\"#0d0887\"],[0.1111111111111111,\"#46039f\"],[0.2222222222222222,\"#7201a8\"],[0.3333333333333333,\"#9c179e\"],[0.4444444444444444,\"#bd3786\"],[0.5555555555555556,\"#d8576b\"],[0.6666666666666666,\"#ed7953\"],[0.7777777777777778,\"#fb9f3a\"],[0.8888888888888888,\"#fdca26\"],[1.0,\"#f0f921\"]],\"type\":\"histogram2dcontour\"}],\"mesh3d\":[{\"colorbar\":{\"outlinewidth\":0,\"ticks\":\"\"},\"type\":\"mesh3d\"}],\"parcoords\":[{\"line\":{\"colorbar\":{\"outlinewidth\":0,\"ticks\":\"\"}},\"type\":\"parcoords\"}],\"pie\":[{\"automargin\":true,\"type\":\"pie\"}],\"scatter\":[{\"marker\":{\"colorbar\":{\"outlinewidth\":0,\"ticks\":\"\"}},\"type\":\"scatter\"}],\"scatter3d\":[{\"line\":{\"colorbar\":{\"outlinewidth\":0,\"ticks\":\"\"}},\"marker\":{\"colorbar\":{\"outlinewidth\":0,\"ticks\":\"\"}},\"type\":\"scatter3d\"}],\"scattercarpet\":[{\"marker\":{\"colorbar\":{\"outlinewidth\":0,\"ticks\":\"\"}},\"type\":\"scattercarpet\"}],\"scattergeo\":[{\"marker\":{\"colorbar\":{\"outlinewidth\":0,\"ticks\":\"\"}},\"type\":\"scattergeo\"}],\"scattergl\":[{\"marker\":{\"colorbar\":{\"outlinewidth\":0,\"ticks\":\"\"}},\"type\":\"scattergl\"}],\"scattermapbox\":[{\"marker\":{\"colorbar\":{\"outlinewidth\":0,\"ticks\":\"\"}},\"type\":\"scattermapbox\"}],\"scatterpolar\":[{\"marker\":{\"colorbar\":{\"outlinewidth\":0,\"ticks\":\"\"}},\"type\":\"scatterpolar\"}],\"scatterpolargl\":[{\"marker\":{\"colorbar\":{\"outlinewidth\":0,\"ticks\":\"\"}},\"type\":\"scatterpolargl\"}],\"scatterternary\":[{\"marker\":{\"colorbar\":{\"outlinewidth\":0,\"ticks\":\"\"}},\"type\":\"scatterternary\"}],\"surface\":[{\"colorbar\":{\"outlinewidth\":0,\"ticks\":\"\"},\"colorscale\":[[0.0,\"#0d0887\"],[0.1111111111111111,\"#46039f\"],[0.2222222222222222,\"#7201a8\"],[0.3333333333333333,\"#9c179e\"],[0.4444444444444444,\"#bd3786\"],[0.5555555555555556,\"#d8576b\"],[0.6666666666666666,\"#ed7953\"],[0.7777777777777778,\"#fb9f3a\"],[0.8888888888888888,\"#fdca26\"],[1.0,\"#f0f921\"]],\"type\":\"surface\"}],\"table\":[{\"cells\":{\"fill\":{\"color\":\"#EBF0F8\"},\"line\":{\"color\":\"white\"}},\"header\":{\"fill\":{\"color\":\"#C8D4E3\"},\"line\":{\"color\":\"white\"}},\"type\":\"table\"}]},\"layout\":{\"annotationdefaults\":{\"arrowcolor\":\"#2a3f5f\",\"arrowhead\":0,\"arrowwidth\":1},\"autotypenumbers\":\"strict\",\"coloraxis\":{\"colorbar\":{\"outlinewidth\":0,\"ticks\":\"\"}},\"colorscale\":{\"diverging\":[[0,\"#8e0152\"],[0.1,\"#c51b7d\"],[0.2,\"#de77ae\"],[0.3,\"#f1b6da\"],[0.4,\"#fde0ef\"],[0.5,\"#f7f7f7\"],[0.6,\"#e6f5d0\"],[0.7,\"#b8e186\"],[0.8,\"#7fbc41\"],[0.9,\"#4d9221\"],[1,\"#276419\"]],\"sequential\":[[0.0,\"#0d0887\"],[0.1111111111111111,\"#46039f\"],[0.2222222222222222,\"#7201a8\"],[0.3333333333333333,\"#9c179e\"],[0.4444444444444444,\"#bd3786\"],[0.5555555555555556,\"#d8576b\"],[0.6666666666666666,\"#ed7953\"],[0.7777777777777778,\"#fb9f3a\"],[0.8888888888888888,\"#fdca26\"],[1.0,\"#f0f921\"]],\"sequentialminus\":[[0.0,\"#0d0887\"],[0.1111111111111111,\"#46039f\"],[0.2222222222222222,\"#7201a8\"],[0.3333333333333333,\"#9c179e\"],[0.4444444444444444,\"#bd3786\"],[0.5555555555555556,\"#d8576b\"],[0.6666666666666666,\"#ed7953\"],[0.7777777777777778,\"#fb9f3a\"],[0.8888888888888888,\"#fdca26\"],[1.0,\"#f0f921\"]]},\"colorway\":[\"#636efa\",\"#EF553B\",\"#00cc96\",\"#ab63fa\",\"#FFA15A\",\"#19d3f3\",\"#FF6692\",\"#B6E880\",\"#FF97FF\",\"#FECB52\"],\"font\":{\"color\":\"#2a3f5f\"},\"geo\":{\"bgcolor\":\"white\",\"lakecolor\":\"white\",\"landcolor\":\"#E5ECF6\",\"showlakes\":true,\"showland\":true,\"subunitcolor\":\"white\"},\"hoverlabel\":{\"align\":\"left\"},\"hovermode\":\"closest\",\"mapbox\":{\"style\":\"light\"},\"paper_bgcolor\":\"white\",\"plot_bgcolor\":\"#E5ECF6\",\"polar\":{\"angularaxis\":{\"gridcolor\":\"white\",\"linecolor\":\"white\",\"ticks\":\"\"},\"bgcolor\":\"#E5ECF6\",\"radialaxis\":{\"gridcolor\":\"white\",\"linecolor\":\"white\",\"ticks\":\"\"}},\"scene\":{\"xaxis\":{\"backgroundcolor\":\"#E5ECF6\",\"gridcolor\":\"white\",\"gridwidth\":2,\"linecolor\":\"white\",\"showbackground\":true,\"ticks\":\"\",\"zerolinecolor\":\"white\"},\"yaxis\":{\"backgroundcolor\":\"#E5ECF6\",\"gridcolor\":\"white\",\"gridwidth\":2,\"linecolor\":\"white\",\"showbackground\":true,\"ticks\":\"\",\"zerolinecolor\":\"white\"},\"zaxis\":{\"backgroundcolor\":\"#E5ECF6\",\"gridcolor\":\"white\",\"gridwidth\":2,\"linecolor\":\"white\",\"showbackground\":true,\"ticks\":\"\",\"zerolinecolor\":\"white\"}},\"shapedefaults\":{\"line\":{\"color\":\"#2a3f5f\"}},\"ternary\":{\"aaxis\":{\"gridcolor\":\"white\",\"linecolor\":\"white\",\"ticks\":\"\"},\"baxis\":{\"gridcolor\":\"white\",\"linecolor\":\"white\",\"ticks\":\"\"},\"bgcolor\":\"#E5ECF6\",\"caxis\":{\"gridcolor\":\"white\",\"linecolor\":\"white\",\"ticks\":\"\"}},\"title\":{\"x\":0.05},\"xaxis\":{\"automargin\":true,\"gridcolor\":\"white\",\"linecolor\":\"white\",\"ticks\":\"\",\"title\":{\"standoff\":15},\"zerolinecolor\":\"white\",\"zerolinewidth\":2},\"yaxis\":{\"automargin\":true,\"gridcolor\":\"white\",\"linecolor\":\"white\",\"ticks\":\"\",\"title\":{\"standoff\":15},\"zerolinecolor\":\"white\",\"zerolinewidth\":2}}},\"title\":{\"text\":\"Volume de Passeios por Hora\",\"y\":0.9,\"x\":0.5,\"xanchor\":\"center\",\"yanchor\":\"top\"}},                        {\"responsive\": true}                    ).then(function(){\n",
              "                            \n",
              "var gd = document.getElementById('3972d5df-4e20-4d4f-a284-a9653c5c7a8f');\n",
              "var x = new MutationObserver(function (mutations, observer) {{\n",
              "        var display = window.getComputedStyle(gd).display;\n",
              "        if (!display || display === 'none') {{\n",
              "            console.log([gd, 'removed!']);\n",
              "            Plotly.purge(gd);\n",
              "            observer.disconnect();\n",
              "        }}\n",
              "}});\n",
              "\n",
              "// Listen for the removal of the full notebook cells\n",
              "var notebookContainer = gd.closest('#notebook-container');\n",
              "if (notebookContainer) {{\n",
              "    x.observe(notebookContainer, {childList: true});\n",
              "}}\n",
              "\n",
              "// Listen for the clearing of the current output cell\n",
              "var outputEl = gd.closest('.output');\n",
              "if (outputEl) {{\n",
              "    x.observe(outputEl, {childList: true});\n",
              "}}\n",
              "\n",
              "                        })                };                            </script>        </div>\n",
              "</body>\n",
              "</html>"
            ]
          },
          "metadata": {}
        },
        {
          "output_type": "display_data",
          "data": {
            "text/plain": [
              "<Figure size 432x288 with 0 Axes>"
            ]
          },
          "metadata": {}
        }
      ]
    },
    {
      "cell_type": "markdown",
      "source": [
        "**Q5** **R:** Conforme o primeiro gráfico, observamos que o dia que há mais passeios durante a semana é a **`Quarta-Feira`**. E a hora de maior pico durante o dia são às **`18hs`**.\n",
        "*(Obs: É possível observar no segundo gráfico que há outros picos durante dia, nos horários: **`13hs`**,**`20hs`** e **`22hs`** )*"
      ],
      "metadata": {
        "id": "pFtjkLo-qhgg"
      }
    },
    {
      "cell_type": "markdown",
      "source": [
        "###**Conclusões**"
      ],
      "metadata": {
        "id": "dhnB9PinydQS"
      }
    },
    {
      "cell_type": "markdown",
      "source": [
        "Foram feitas apenas análises superficiais dentro de uma amostra da base do projeto +Bike. Porém já foram notados alguns *outliers*, tratamentos de inforamções ausentes, ajustes que o Dataset necessitava, e algumas análises interessantes:\n",
        "\n",
        "* Notamos que a Cidade/Estado com maior volume de passeios é o **DF** *(2537)*, porém a Cidade/Estado com maior tempo médio de passeio é **TO** *(43min)*.\n",
        "\n",
        "* A média de idade dos usuários da amostra é de aproximadamente **29 anos**, informação que também é refletida quando abservamos as aberturas por grupos, e olhamos **60%** dos usuários caracterizados como jovens.\n",
        "\n",
        "* Mesmo tendo um alto volume de passeios entre **Jovens** *(59.6%)* e **Adultos** *(36.1%)*, o grupo que tem maior representação na média de duração dos passeios é o de **Crianças** *(25.9%)*. \n",
        "O que podemos definir com essa análise é que os jovens provavelmente utilizam as bikes para fins mais objetivos, como uma volta do trabalho por exemplo, que é uma atividade que possa ter uma duração menor, porém constante. Já as crianças provavelmente utilizam para recreação, com uma duração maior e menos constância.\n",
        "\n",
        "* Outro ponto que analisamos são os períodos, a **Quarta-Feira** é o dia de maior volume de passeio, seguido da Terça. Já o horário de maior pico é as **18hs**, essa análise nos ajuda a sustentar o nosso insight anterior, em relação a utilização das bikes para o transporte mais objetivo e com destinos definidos, visto que os dias de semana são os mais volumosos, e o horário é um período de pico padrão, em que as pessoas se deslocam do trbalho para casa, ou vice e versa. \n",
        "\n",
        "Por fim, lembra-se que este *dataset* é uma versão resumida, ideal apenas para uma abordagem inicial para extrairmos análises e bons insights .\n"
      ],
      "metadata": {
        "id": "7eE9pknmykc3"
      }
    }
  ]
}